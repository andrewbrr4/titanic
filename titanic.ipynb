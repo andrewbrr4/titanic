{
 "cells": [
  {
   "cell_type": "code",
   "execution_count": 1,
   "id": "899d83a7",
   "metadata": {
    "_cell_guid": "b1076dfc-b9ad-4769-8c92-a6c4dae69d19",
    "_uuid": "8f2839f25d086af736a60e9eeb907d3b93b6e0e5",
    "execution": {
     "iopub.execute_input": "2022-02-09T21:28:31.433220Z",
     "iopub.status.busy": "2022-02-09T21:28:31.431410Z",
     "iopub.status.idle": "2022-02-09T21:28:31.449895Z",
     "shell.execute_reply": "2022-02-09T21:28:31.450526Z",
     "shell.execute_reply.started": "2022-01-24T01:48:32.111575Z"
    },
    "papermill": {
     "duration": 0.049568,
     "end_time": "2022-02-09T21:28:31.450861",
     "exception": false,
     "start_time": "2022-02-09T21:28:31.401293",
     "status": "completed"
    },
    "tags": []
   },
   "outputs": [
    {
     "name": "stdout",
     "output_type": "stream",
     "text": [
      "/kaggle/input/titanic/train.csv\n",
      "/kaggle/input/titanic/test.csv\n",
      "/kaggle/input/titanic/gender_submission.csv\n"
     ]
    }
   ],
   "source": [
    "# This Python 3 environment comes with many helpful analytics libraries installed\n",
    "# It is defined by the kaggle/python Docker image: https://github.com/kaggle/docker-python\n",
    "# For example, here's several helpful packages to load\n",
    "\n",
    "import numpy as np # linear algebra\n",
    "import pandas as pd # data processing, CSV file I/O (e.g. pd.read_csv)\n",
    "import warnings\n",
    "warnings.filterwarnings('ignore')\n",
    "\n",
    "# Input data files are available in the read-only \"../input/\" directory\n",
    "# For example, running this (by clicking run or pressing Shift+Enter) will list all files under the input directory\n",
    "\n",
    "import os\n",
    "for dirname, _, filenames in os.walk('/kaggle/input'):\n",
    "    for filename in filenames:\n",
    "        print(os.path.join(dirname, filename))\n",
    "\n",
    "# You can write up to 20GB to the current directory (/kaggle/working/) that gets preserved as output when you create a version using \"Save & Run All\" \n",
    "# You can also write temporary files to /kaggle/temp/, but they won't be saved outside of the current session"
   ]
  },
  {
   "cell_type": "code",
   "execution_count": 2,
   "id": "d7728657",
   "metadata": {
    "execution": {
     "iopub.execute_input": "2022-02-09T21:28:31.503969Z",
     "iopub.status.busy": "2022-02-09T21:28:31.502982Z",
     "iopub.status.idle": "2022-02-09T21:28:31.527962Z",
     "shell.execute_reply": "2022-02-09T21:28:31.528608Z",
     "shell.execute_reply.started": "2022-01-24T01:48:32.143341Z"
    },
    "papermill": {
     "duration": 0.052881,
     "end_time": "2022-02-09T21:28:31.528808",
     "exception": false,
     "start_time": "2022-02-09T21:28:31.475927",
     "status": "completed"
    },
    "tags": []
   },
   "outputs": [],
   "source": [
    "df = pd.read_csv('/kaggle/input/titanic/train.csv')"
   ]
  },
  {
   "cell_type": "markdown",
   "id": "fc0077cb",
   "metadata": {
    "papermill": {
     "duration": 0.025787,
     "end_time": "2022-02-09T21:28:31.580028",
     "exception": false,
     "start_time": "2022-02-09T21:28:31.554241",
     "status": "completed"
    },
    "tags": []
   },
   "source": [
    "### Explore and preprocess data"
   ]
  },
  {
   "cell_type": "code",
   "execution_count": 3,
   "id": "f6009a7d",
   "metadata": {
    "execution": {
     "iopub.execute_input": "2022-02-09T21:28:31.632065Z",
     "iopub.status.busy": "2022-02-09T21:28:31.631025Z",
     "iopub.status.idle": "2022-02-09T21:28:31.657011Z",
     "shell.execute_reply": "2022-02-09T21:28:31.657537Z",
     "shell.execute_reply.started": "2022-01-24T01:48:32.167615Z"
    },
    "papermill": {
     "duration": 0.053404,
     "end_time": "2022-02-09T21:28:31.657710",
     "exception": false,
     "start_time": "2022-02-09T21:28:31.604306",
     "status": "completed"
    },
    "tags": []
   },
   "outputs": [
    {
     "data": {
      "text/html": [
       "<div>\n",
       "<style scoped>\n",
       "    .dataframe tbody tr th:only-of-type {\n",
       "        vertical-align: middle;\n",
       "    }\n",
       "\n",
       "    .dataframe tbody tr th {\n",
       "        vertical-align: top;\n",
       "    }\n",
       "\n",
       "    .dataframe thead th {\n",
       "        text-align: right;\n",
       "    }\n",
       "</style>\n",
       "<table border=\"1\" class=\"dataframe\">\n",
       "  <thead>\n",
       "    <tr style=\"text-align: right;\">\n",
       "      <th></th>\n",
       "      <th>PassengerId</th>\n",
       "      <th>Survived</th>\n",
       "      <th>Pclass</th>\n",
       "      <th>Name</th>\n",
       "      <th>Sex</th>\n",
       "      <th>Age</th>\n",
       "      <th>SibSp</th>\n",
       "      <th>Parch</th>\n",
       "      <th>Ticket</th>\n",
       "      <th>Fare</th>\n",
       "      <th>Cabin</th>\n",
       "      <th>Embarked</th>\n",
       "    </tr>\n",
       "  </thead>\n",
       "  <tbody>\n",
       "    <tr>\n",
       "      <th>0</th>\n",
       "      <td>1</td>\n",
       "      <td>0</td>\n",
       "      <td>3</td>\n",
       "      <td>Braund, Mr. Owen Harris</td>\n",
       "      <td>male</td>\n",
       "      <td>22.0</td>\n",
       "      <td>1</td>\n",
       "      <td>0</td>\n",
       "      <td>A/5 21171</td>\n",
       "      <td>7.2500</td>\n",
       "      <td>NaN</td>\n",
       "      <td>S</td>\n",
       "    </tr>\n",
       "    <tr>\n",
       "      <th>1</th>\n",
       "      <td>2</td>\n",
       "      <td>1</td>\n",
       "      <td>1</td>\n",
       "      <td>Cumings, Mrs. John Bradley (Florence Briggs Th...</td>\n",
       "      <td>female</td>\n",
       "      <td>38.0</td>\n",
       "      <td>1</td>\n",
       "      <td>0</td>\n",
       "      <td>PC 17599</td>\n",
       "      <td>71.2833</td>\n",
       "      <td>C85</td>\n",
       "      <td>C</td>\n",
       "    </tr>\n",
       "    <tr>\n",
       "      <th>2</th>\n",
       "      <td>3</td>\n",
       "      <td>1</td>\n",
       "      <td>3</td>\n",
       "      <td>Heikkinen, Miss. Laina</td>\n",
       "      <td>female</td>\n",
       "      <td>26.0</td>\n",
       "      <td>0</td>\n",
       "      <td>0</td>\n",
       "      <td>STON/O2. 3101282</td>\n",
       "      <td>7.9250</td>\n",
       "      <td>NaN</td>\n",
       "      <td>S</td>\n",
       "    </tr>\n",
       "    <tr>\n",
       "      <th>3</th>\n",
       "      <td>4</td>\n",
       "      <td>1</td>\n",
       "      <td>1</td>\n",
       "      <td>Futrelle, Mrs. Jacques Heath (Lily May Peel)</td>\n",
       "      <td>female</td>\n",
       "      <td>35.0</td>\n",
       "      <td>1</td>\n",
       "      <td>0</td>\n",
       "      <td>113803</td>\n",
       "      <td>53.1000</td>\n",
       "      <td>C123</td>\n",
       "      <td>S</td>\n",
       "    </tr>\n",
       "    <tr>\n",
       "      <th>4</th>\n",
       "      <td>5</td>\n",
       "      <td>0</td>\n",
       "      <td>3</td>\n",
       "      <td>Allen, Mr. William Henry</td>\n",
       "      <td>male</td>\n",
       "      <td>35.0</td>\n",
       "      <td>0</td>\n",
       "      <td>0</td>\n",
       "      <td>373450</td>\n",
       "      <td>8.0500</td>\n",
       "      <td>NaN</td>\n",
       "      <td>S</td>\n",
       "    </tr>\n",
       "  </tbody>\n",
       "</table>\n",
       "</div>"
      ],
      "text/plain": [
       "   PassengerId  Survived  Pclass  \\\n",
       "0            1         0       3   \n",
       "1            2         1       1   \n",
       "2            3         1       3   \n",
       "3            4         1       1   \n",
       "4            5         0       3   \n",
       "\n",
       "                                                Name     Sex   Age  SibSp  \\\n",
       "0                            Braund, Mr. Owen Harris    male  22.0      1   \n",
       "1  Cumings, Mrs. John Bradley (Florence Briggs Th...  female  38.0      1   \n",
       "2                             Heikkinen, Miss. Laina  female  26.0      0   \n",
       "3       Futrelle, Mrs. Jacques Heath (Lily May Peel)  female  35.0      1   \n",
       "4                           Allen, Mr. William Henry    male  35.0      0   \n",
       "\n",
       "   Parch            Ticket     Fare Cabin Embarked  \n",
       "0      0         A/5 21171   7.2500   NaN        S  \n",
       "1      0          PC 17599  71.2833   C85        C  \n",
       "2      0  STON/O2. 3101282   7.9250   NaN        S  \n",
       "3      0            113803  53.1000  C123        S  \n",
       "4      0            373450   8.0500   NaN        S  "
      ]
     },
     "execution_count": 3,
     "metadata": {},
     "output_type": "execute_result"
    }
   ],
   "source": [
    "df.head()"
   ]
  },
  {
   "cell_type": "code",
   "execution_count": 4,
   "id": "b30d6752",
   "metadata": {
    "execution": {
     "iopub.execute_input": "2022-02-09T21:28:31.712724Z",
     "iopub.status.busy": "2022-02-09T21:28:31.711881Z",
     "iopub.status.idle": "2022-02-09T21:28:31.715085Z",
     "shell.execute_reply": "2022-02-09T21:28:31.715609Z",
     "shell.execute_reply.started": "2022-01-24T01:48:32.193311Z"
    },
    "papermill": {
     "duration": 0.033728,
     "end_time": "2022-02-09T21:28:31.715789",
     "exception": false,
     "start_time": "2022-02-09T21:28:31.682061",
     "status": "completed"
    },
    "tags": []
   },
   "outputs": [
    {
     "data": {
      "text/plain": [
       "(891, 12)"
      ]
     },
     "execution_count": 4,
     "metadata": {},
     "output_type": "execute_result"
    }
   ],
   "source": [
    "df.shape"
   ]
  },
  {
   "cell_type": "code",
   "execution_count": 5,
   "id": "14faaf8f",
   "metadata": {
    "execution": {
     "iopub.execute_input": "2022-02-09T21:28:31.771205Z",
     "iopub.status.busy": "2022-02-09T21:28:31.770194Z",
     "iopub.status.idle": "2022-02-09T21:28:31.785857Z",
     "shell.execute_reply": "2022-02-09T21:28:31.786408Z",
     "shell.execute_reply.started": "2022-01-24T01:48:32.200229Z"
    },
    "papermill": {
     "duration": 0.045762,
     "end_time": "2022-02-09T21:28:31.786605",
     "exception": false,
     "start_time": "2022-02-09T21:28:31.740843",
     "status": "completed"
    },
    "tags": []
   },
   "outputs": [
    {
     "data": {
      "text/plain": [
       "PassengerId    891\n",
       "Survived         2\n",
       "Pclass           3\n",
       "Name           891\n",
       "Sex              2\n",
       "Age             88\n",
       "SibSp            7\n",
       "Parch            7\n",
       "Ticket         681\n",
       "Fare           248\n",
       "Cabin          147\n",
       "Embarked         3\n",
       "dtype: int64"
      ]
     },
     "execution_count": 5,
     "metadata": {},
     "output_type": "execute_result"
    }
   ],
   "source": [
    "df.nunique()"
   ]
  },
  {
   "cell_type": "code",
   "execution_count": 6,
   "id": "fabfd0dc",
   "metadata": {
    "execution": {
     "iopub.execute_input": "2022-02-09T21:28:31.842006Z",
     "iopub.status.busy": "2022-02-09T21:28:31.840966Z",
     "iopub.status.idle": "2022-02-09T21:28:31.850319Z",
     "shell.execute_reply": "2022-02-09T21:28:31.850909Z",
     "shell.execute_reply.started": "2022-01-24T01:48:32.225132Z"
    },
    "papermill": {
     "duration": 0.038026,
     "end_time": "2022-02-09T21:28:31.851088",
     "exception": false,
     "start_time": "2022-02-09T21:28:31.813062",
     "status": "completed"
    },
    "tags": []
   },
   "outputs": [
    {
     "data": {
      "text/plain": [
       "PassengerId      0\n",
       "Survived         0\n",
       "Pclass           0\n",
       "Name             0\n",
       "Sex              0\n",
       "Age            177\n",
       "SibSp            0\n",
       "Parch            0\n",
       "Ticket           0\n",
       "Fare             0\n",
       "Cabin          687\n",
       "Embarked         2\n",
       "dtype: int64"
      ]
     },
     "execution_count": 6,
     "metadata": {},
     "output_type": "execute_result"
    }
   ],
   "source": [
    "df.isnull().sum()"
   ]
  },
  {
   "cell_type": "code",
   "execution_count": 7,
   "id": "551a7c7b",
   "metadata": {
    "execution": {
     "iopub.execute_input": "2022-02-09T21:28:31.916423Z",
     "iopub.status.busy": "2022-02-09T21:28:31.915545Z",
     "iopub.status.idle": "2022-02-09T21:28:31.936811Z",
     "shell.execute_reply": "2022-02-09T21:28:31.937361Z",
     "shell.execute_reply.started": "2022-01-24T01:48:32.238975Z"
    },
    "papermill": {
     "duration": 0.059599,
     "end_time": "2022-02-09T21:28:31.937551",
     "exception": false,
     "start_time": "2022-02-09T21:28:31.877952",
     "status": "completed"
    },
    "tags": []
   },
   "outputs": [
    {
     "data": {
      "text/html": [
       "<div>\n",
       "<style scoped>\n",
       "    .dataframe tbody tr th:only-of-type {\n",
       "        vertical-align: middle;\n",
       "    }\n",
       "\n",
       "    .dataframe tbody tr th {\n",
       "        vertical-align: top;\n",
       "    }\n",
       "\n",
       "    .dataframe thead th {\n",
       "        text-align: right;\n",
       "    }\n",
       "</style>\n",
       "<table border=\"1\" class=\"dataframe\">\n",
       "  <thead>\n",
       "    <tr style=\"text-align: right;\">\n",
       "      <th></th>\n",
       "      <th>Survived</th>\n",
       "      <th>Pclass</th>\n",
       "      <th>Sex</th>\n",
       "      <th>Age</th>\n",
       "      <th>SibSp</th>\n",
       "      <th>Parch</th>\n",
       "      <th>Fare</th>\n",
       "      <th>Embarked</th>\n",
       "    </tr>\n",
       "    <tr>\n",
       "      <th>PassengerId</th>\n",
       "      <th></th>\n",
       "      <th></th>\n",
       "      <th></th>\n",
       "      <th></th>\n",
       "      <th></th>\n",
       "      <th></th>\n",
       "      <th></th>\n",
       "      <th></th>\n",
       "    </tr>\n",
       "  </thead>\n",
       "  <tbody>\n",
       "    <tr>\n",
       "      <th>1</th>\n",
       "      <td>0</td>\n",
       "      <td>3</td>\n",
       "      <td>1</td>\n",
       "      <td>22.0</td>\n",
       "      <td>1</td>\n",
       "      <td>0</td>\n",
       "      <td>7.2500</td>\n",
       "      <td>S</td>\n",
       "    </tr>\n",
       "    <tr>\n",
       "      <th>2</th>\n",
       "      <td>1</td>\n",
       "      <td>1</td>\n",
       "      <td>0</td>\n",
       "      <td>38.0</td>\n",
       "      <td>1</td>\n",
       "      <td>0</td>\n",
       "      <td>71.2833</td>\n",
       "      <td>C</td>\n",
       "    </tr>\n",
       "    <tr>\n",
       "      <th>3</th>\n",
       "      <td>1</td>\n",
       "      <td>3</td>\n",
       "      <td>0</td>\n",
       "      <td>26.0</td>\n",
       "      <td>0</td>\n",
       "      <td>0</td>\n",
       "      <td>7.9250</td>\n",
       "      <td>S</td>\n",
       "    </tr>\n",
       "    <tr>\n",
       "      <th>4</th>\n",
       "      <td>1</td>\n",
       "      <td>1</td>\n",
       "      <td>0</td>\n",
       "      <td>35.0</td>\n",
       "      <td>1</td>\n",
       "      <td>0</td>\n",
       "      <td>53.1000</td>\n",
       "      <td>S</td>\n",
       "    </tr>\n",
       "    <tr>\n",
       "      <th>5</th>\n",
       "      <td>0</td>\n",
       "      <td>3</td>\n",
       "      <td>1</td>\n",
       "      <td>35.0</td>\n",
       "      <td>0</td>\n",
       "      <td>0</td>\n",
       "      <td>8.0500</td>\n",
       "      <td>S</td>\n",
       "    </tr>\n",
       "  </tbody>\n",
       "</table>\n",
       "</div>"
      ],
      "text/plain": [
       "             Survived  Pclass  Sex   Age  SibSp  Parch     Fare Embarked\n",
       "PassengerId                                                             \n",
       "1                   0       3    1  22.0      1      0   7.2500        S\n",
       "2                   1       1    0  38.0      1      0  71.2833        C\n",
       "3                   1       3    0  26.0      0      0   7.9250        S\n",
       "4                   1       1    0  35.0      1      0  53.1000        S\n",
       "5                   0       3    1  35.0      0      0   8.0500        S"
      ]
     },
     "execution_count": 7,
     "metadata": {},
     "output_type": "execute_result"
    }
   ],
   "source": [
    "df.set_index('PassengerId',inplace=True)\n",
    "df.drop(['Name','Ticket','Cabin'],axis=1,inplace=True)\n",
    "df['Sex'].replace('male',1,inplace=True)\n",
    "df['Sex'].replace('female',0,inplace=True)\n",
    "df.dropna(inplace=True)\n",
    "df.head()"
   ]
  },
  {
   "cell_type": "code",
   "execution_count": 8,
   "id": "752752db",
   "metadata": {
    "execution": {
     "iopub.execute_input": "2022-02-09T21:28:31.994901Z",
     "iopub.status.busy": "2022-02-09T21:28:31.993891Z",
     "iopub.status.idle": "2022-02-09T21:28:31.999251Z",
     "shell.execute_reply": "2022-02-09T21:28:31.999864Z",
     "shell.execute_reply.started": "2022-01-24T01:48:32.268478Z"
    },
    "papermill": {
     "duration": 0.035418,
     "end_time": "2022-02-09T21:28:32.000032",
     "exception": false,
     "start_time": "2022-02-09T21:28:31.964614",
     "status": "completed"
    },
    "tags": []
   },
   "outputs": [
    {
     "data": {
      "text/plain": [
       "(712, 8)"
      ]
     },
     "execution_count": 8,
     "metadata": {},
     "output_type": "execute_result"
    }
   ],
   "source": [
    "df.shape"
   ]
  },
  {
   "cell_type": "code",
   "execution_count": 9,
   "id": "8db9ae75",
   "metadata": {
    "execution": {
     "iopub.execute_input": "2022-02-09T21:28:32.058862Z",
     "iopub.status.busy": "2022-02-09T21:28:32.057976Z",
     "iopub.status.idle": "2022-02-09T21:28:32.060873Z",
     "shell.execute_reply": "2022-02-09T21:28:32.061417Z",
     "shell.execute_reply.started": "2022-01-24T01:48:32.274594Z"
    },
    "papermill": {
     "duration": 0.035603,
     "end_time": "2022-02-09T21:28:32.061617",
     "exception": false,
     "start_time": "2022-02-09T21:28:32.026014",
     "status": "completed"
    },
    "tags": []
   },
   "outputs": [],
   "source": [
    "X = df.drop('Survived',axis=1)\n",
    "y = df['Survived']"
   ]
  },
  {
   "cell_type": "code",
   "execution_count": 10,
   "id": "be542631",
   "metadata": {
    "execution": {
     "iopub.execute_input": "2022-02-09T21:28:32.118762Z",
     "iopub.status.busy": "2022-02-09T21:28:32.117677Z",
     "iopub.status.idle": "2022-02-09T21:28:32.134993Z",
     "shell.execute_reply": "2022-02-09T21:28:32.135524Z",
     "shell.execute_reply.started": "2022-01-24T01:48:32.288157Z"
    },
    "papermill": {
     "duration": 0.048078,
     "end_time": "2022-02-09T21:28:32.135700",
     "exception": false,
     "start_time": "2022-02-09T21:28:32.087622",
     "status": "completed"
    },
    "tags": []
   },
   "outputs": [
    {
     "data": {
      "text/html": [
       "<div>\n",
       "<style scoped>\n",
       "    .dataframe tbody tr th:only-of-type {\n",
       "        vertical-align: middle;\n",
       "    }\n",
       "\n",
       "    .dataframe tbody tr th {\n",
       "        vertical-align: top;\n",
       "    }\n",
       "\n",
       "    .dataframe thead th {\n",
       "        text-align: right;\n",
       "    }\n",
       "</style>\n",
       "<table border=\"1\" class=\"dataframe\">\n",
       "  <thead>\n",
       "    <tr style=\"text-align: right;\">\n",
       "      <th></th>\n",
       "      <th>Pclass</th>\n",
       "      <th>Sex</th>\n",
       "      <th>Age</th>\n",
       "      <th>SibSp</th>\n",
       "      <th>Parch</th>\n",
       "      <th>Fare</th>\n",
       "      <th>Embarked</th>\n",
       "    </tr>\n",
       "    <tr>\n",
       "      <th>PassengerId</th>\n",
       "      <th></th>\n",
       "      <th></th>\n",
       "      <th></th>\n",
       "      <th></th>\n",
       "      <th></th>\n",
       "      <th></th>\n",
       "      <th></th>\n",
       "    </tr>\n",
       "  </thead>\n",
       "  <tbody>\n",
       "    <tr>\n",
       "      <th>1</th>\n",
       "      <td>3</td>\n",
       "      <td>1</td>\n",
       "      <td>22.0</td>\n",
       "      <td>1</td>\n",
       "      <td>0</td>\n",
       "      <td>7.2500</td>\n",
       "      <td>S</td>\n",
       "    </tr>\n",
       "    <tr>\n",
       "      <th>2</th>\n",
       "      <td>1</td>\n",
       "      <td>0</td>\n",
       "      <td>38.0</td>\n",
       "      <td>1</td>\n",
       "      <td>0</td>\n",
       "      <td>71.2833</td>\n",
       "      <td>C</td>\n",
       "    </tr>\n",
       "    <tr>\n",
       "      <th>3</th>\n",
       "      <td>3</td>\n",
       "      <td>0</td>\n",
       "      <td>26.0</td>\n",
       "      <td>0</td>\n",
       "      <td>0</td>\n",
       "      <td>7.9250</td>\n",
       "      <td>S</td>\n",
       "    </tr>\n",
       "    <tr>\n",
       "      <th>4</th>\n",
       "      <td>1</td>\n",
       "      <td>0</td>\n",
       "      <td>35.0</td>\n",
       "      <td>1</td>\n",
       "      <td>0</td>\n",
       "      <td>53.1000</td>\n",
       "      <td>S</td>\n",
       "    </tr>\n",
       "    <tr>\n",
       "      <th>5</th>\n",
       "      <td>3</td>\n",
       "      <td>1</td>\n",
       "      <td>35.0</td>\n",
       "      <td>0</td>\n",
       "      <td>0</td>\n",
       "      <td>8.0500</td>\n",
       "      <td>S</td>\n",
       "    </tr>\n",
       "    <tr>\n",
       "      <th>...</th>\n",
       "      <td>...</td>\n",
       "      <td>...</td>\n",
       "      <td>...</td>\n",
       "      <td>...</td>\n",
       "      <td>...</td>\n",
       "      <td>...</td>\n",
       "      <td>...</td>\n",
       "    </tr>\n",
       "    <tr>\n",
       "      <th>886</th>\n",
       "      <td>3</td>\n",
       "      <td>0</td>\n",
       "      <td>39.0</td>\n",
       "      <td>0</td>\n",
       "      <td>5</td>\n",
       "      <td>29.1250</td>\n",
       "      <td>Q</td>\n",
       "    </tr>\n",
       "    <tr>\n",
       "      <th>887</th>\n",
       "      <td>2</td>\n",
       "      <td>1</td>\n",
       "      <td>27.0</td>\n",
       "      <td>0</td>\n",
       "      <td>0</td>\n",
       "      <td>13.0000</td>\n",
       "      <td>S</td>\n",
       "    </tr>\n",
       "    <tr>\n",
       "      <th>888</th>\n",
       "      <td>1</td>\n",
       "      <td>0</td>\n",
       "      <td>19.0</td>\n",
       "      <td>0</td>\n",
       "      <td>0</td>\n",
       "      <td>30.0000</td>\n",
       "      <td>S</td>\n",
       "    </tr>\n",
       "    <tr>\n",
       "      <th>890</th>\n",
       "      <td>1</td>\n",
       "      <td>1</td>\n",
       "      <td>26.0</td>\n",
       "      <td>0</td>\n",
       "      <td>0</td>\n",
       "      <td>30.0000</td>\n",
       "      <td>C</td>\n",
       "    </tr>\n",
       "    <tr>\n",
       "      <th>891</th>\n",
       "      <td>3</td>\n",
       "      <td>1</td>\n",
       "      <td>32.0</td>\n",
       "      <td>0</td>\n",
       "      <td>0</td>\n",
       "      <td>7.7500</td>\n",
       "      <td>Q</td>\n",
       "    </tr>\n",
       "  </tbody>\n",
       "</table>\n",
       "<p>712 rows × 7 columns</p>\n",
       "</div>"
      ],
      "text/plain": [
       "             Pclass  Sex   Age  SibSp  Parch     Fare Embarked\n",
       "PassengerId                                                   \n",
       "1                 3    1  22.0      1      0   7.2500        S\n",
       "2                 1    0  38.0      1      0  71.2833        C\n",
       "3                 3    0  26.0      0      0   7.9250        S\n",
       "4                 1    0  35.0      1      0  53.1000        S\n",
       "5                 3    1  35.0      0      0   8.0500        S\n",
       "...             ...  ...   ...    ...    ...      ...      ...\n",
       "886               3    0  39.0      0      5  29.1250        Q\n",
       "887               2    1  27.0      0      0  13.0000        S\n",
       "888               1    0  19.0      0      0  30.0000        S\n",
       "890               1    1  26.0      0      0  30.0000        C\n",
       "891               3    1  32.0      0      0   7.7500        Q\n",
       "\n",
       "[712 rows x 7 columns]"
      ]
     },
     "execution_count": 10,
     "metadata": {},
     "output_type": "execute_result"
    }
   ],
   "source": [
    "X"
   ]
  },
  {
   "cell_type": "code",
   "execution_count": 11,
   "id": "533354e5",
   "metadata": {
    "execution": {
     "iopub.execute_input": "2022-02-09T21:28:32.195057Z",
     "iopub.status.busy": "2022-02-09T21:28:32.194365Z",
     "iopub.status.idle": "2022-02-09T21:28:32.199129Z",
     "shell.execute_reply": "2022-02-09T21:28:32.199738Z",
     "shell.execute_reply.started": "2022-01-24T01:48:32.311178Z"
    },
    "papermill": {
     "duration": 0.037625,
     "end_time": "2022-02-09T21:28:32.199920",
     "exception": false,
     "start_time": "2022-02-09T21:28:32.162295",
     "status": "completed"
    },
    "tags": []
   },
   "outputs": [
    {
     "data": {
      "text/plain": [
       "PassengerId\n",
       "1      0\n",
       "2      1\n",
       "3      1\n",
       "4      1\n",
       "5      0\n",
       "      ..\n",
       "886    0\n",
       "887    0\n",
       "888    1\n",
       "890    1\n",
       "891    0\n",
       "Name: Survived, Length: 712, dtype: int64"
      ]
     },
     "execution_count": 11,
     "metadata": {},
     "output_type": "execute_result"
    }
   ],
   "source": [
    "y"
   ]
  },
  {
   "cell_type": "markdown",
   "id": "ed8b3a14",
   "metadata": {
    "papermill": {
     "duration": 0.026725,
     "end_time": "2022-02-09T21:28:32.253519",
     "exception": false,
     "start_time": "2022-02-09T21:28:32.226794",
     "status": "completed"
    },
    "tags": []
   },
   "source": [
    "#### convert embarkation port to dummy variables, first using pd.get_dummies then OneHotEncoder"
   ]
  },
  {
   "cell_type": "code",
   "execution_count": 12,
   "id": "0298feba",
   "metadata": {
    "execution": {
     "iopub.execute_input": "2022-02-09T21:28:32.313631Z",
     "iopub.status.busy": "2022-02-09T21:28:32.312592Z",
     "iopub.status.idle": "2022-02-09T21:28:32.325332Z",
     "shell.execute_reply": "2022-02-09T21:28:32.325872Z",
     "shell.execute_reply.started": "2022-01-24T01:48:32.319803Z"
    },
    "papermill": {
     "duration": 0.04422,
     "end_time": "2022-02-09T21:28:32.326060",
     "exception": false,
     "start_time": "2022-02-09T21:28:32.281840",
     "status": "completed"
    },
    "tags": []
   },
   "outputs": [],
   "source": [
    "X = pd.get_dummies(data=X,prefix='emb',drop_first=True)"
   ]
  },
  {
   "cell_type": "code",
   "execution_count": 13,
   "id": "b7113a95",
   "metadata": {
    "execution": {
     "iopub.execute_input": "2022-02-09T21:28:32.383807Z",
     "iopub.status.busy": "2022-02-09T21:28:32.382795Z",
     "iopub.status.idle": "2022-02-09T21:28:32.396627Z",
     "shell.execute_reply": "2022-02-09T21:28:32.396033Z",
     "shell.execute_reply.started": "2022-01-24T01:48:32.337485Z"
    },
    "papermill": {
     "duration": 0.043779,
     "end_time": "2022-02-09T21:28:32.396773",
     "exception": false,
     "start_time": "2022-02-09T21:28:32.352994",
     "status": "completed"
    },
    "tags": []
   },
   "outputs": [
    {
     "data": {
      "text/html": [
       "<div>\n",
       "<style scoped>\n",
       "    .dataframe tbody tr th:only-of-type {\n",
       "        vertical-align: middle;\n",
       "    }\n",
       "\n",
       "    .dataframe tbody tr th {\n",
       "        vertical-align: top;\n",
       "    }\n",
       "\n",
       "    .dataframe thead th {\n",
       "        text-align: right;\n",
       "    }\n",
       "</style>\n",
       "<table border=\"1\" class=\"dataframe\">\n",
       "  <thead>\n",
       "    <tr style=\"text-align: right;\">\n",
       "      <th></th>\n",
       "      <th>Pclass</th>\n",
       "      <th>Sex</th>\n",
       "      <th>Age</th>\n",
       "      <th>SibSp</th>\n",
       "      <th>Parch</th>\n",
       "      <th>Fare</th>\n",
       "      <th>emb_Q</th>\n",
       "      <th>emb_S</th>\n",
       "    </tr>\n",
       "    <tr>\n",
       "      <th>PassengerId</th>\n",
       "      <th></th>\n",
       "      <th></th>\n",
       "      <th></th>\n",
       "      <th></th>\n",
       "      <th></th>\n",
       "      <th></th>\n",
       "      <th></th>\n",
       "      <th></th>\n",
       "    </tr>\n",
       "  </thead>\n",
       "  <tbody>\n",
       "    <tr>\n",
       "      <th>1</th>\n",
       "      <td>3</td>\n",
       "      <td>1</td>\n",
       "      <td>22.0</td>\n",
       "      <td>1</td>\n",
       "      <td>0</td>\n",
       "      <td>7.2500</td>\n",
       "      <td>0</td>\n",
       "      <td>1</td>\n",
       "    </tr>\n",
       "    <tr>\n",
       "      <th>2</th>\n",
       "      <td>1</td>\n",
       "      <td>0</td>\n",
       "      <td>38.0</td>\n",
       "      <td>1</td>\n",
       "      <td>0</td>\n",
       "      <td>71.2833</td>\n",
       "      <td>0</td>\n",
       "      <td>0</td>\n",
       "    </tr>\n",
       "    <tr>\n",
       "      <th>3</th>\n",
       "      <td>3</td>\n",
       "      <td>0</td>\n",
       "      <td>26.0</td>\n",
       "      <td>0</td>\n",
       "      <td>0</td>\n",
       "      <td>7.9250</td>\n",
       "      <td>0</td>\n",
       "      <td>1</td>\n",
       "    </tr>\n",
       "    <tr>\n",
       "      <th>4</th>\n",
       "      <td>1</td>\n",
       "      <td>0</td>\n",
       "      <td>35.0</td>\n",
       "      <td>1</td>\n",
       "      <td>0</td>\n",
       "      <td>53.1000</td>\n",
       "      <td>0</td>\n",
       "      <td>1</td>\n",
       "    </tr>\n",
       "    <tr>\n",
       "      <th>5</th>\n",
       "      <td>3</td>\n",
       "      <td>1</td>\n",
       "      <td>35.0</td>\n",
       "      <td>0</td>\n",
       "      <td>0</td>\n",
       "      <td>8.0500</td>\n",
       "      <td>0</td>\n",
       "      <td>1</td>\n",
       "    </tr>\n",
       "  </tbody>\n",
       "</table>\n",
       "</div>"
      ],
      "text/plain": [
       "             Pclass  Sex   Age  SibSp  Parch     Fare  emb_Q  emb_S\n",
       "PassengerId                                                        \n",
       "1                 3    1  22.0      1      0   7.2500      0      1\n",
       "2                 1    0  38.0      1      0  71.2833      0      0\n",
       "3                 3    0  26.0      0      0   7.9250      0      1\n",
       "4                 1    0  35.0      1      0  53.1000      0      1\n",
       "5                 3    1  35.0      0      0   8.0500      0      1"
      ]
     },
     "execution_count": 13,
     "metadata": {},
     "output_type": "execute_result"
    }
   ],
   "source": [
    "X.head()"
   ]
  },
  {
   "cell_type": "code",
   "execution_count": 14,
   "id": "bc84d1da",
   "metadata": {
    "execution": {
     "iopub.execute_input": "2022-02-09T21:28:32.457418Z",
     "iopub.status.busy": "2022-02-09T21:28:32.456427Z",
     "iopub.status.idle": "2022-02-09T21:28:33.566363Z",
     "shell.execute_reply": "2022-02-09T21:28:33.565211Z",
     "shell.execute_reply.started": "2022-01-24T01:48:32.353019Z"
    },
    "papermill": {
     "duration": 1.14038,
     "end_time": "2022-02-09T21:28:33.566535",
     "exception": false,
     "start_time": "2022-02-09T21:28:32.426155",
     "status": "completed"
    },
    "tags": []
   },
   "outputs": [],
   "source": [
    "from sklearn.model_selection import train_test_split\n",
    "X_train,X_test,y_train,y_test = train_test_split(X,y,test_size=.2,random_state=123)"
   ]
  },
  {
   "cell_type": "markdown",
   "id": "2cfea24e",
   "metadata": {
    "papermill": {
     "duration": 0.028717,
     "end_time": "2022-02-09T21:28:33.626638",
     "exception": false,
     "start_time": "2022-02-09T21:28:33.597921",
     "status": "completed"
    },
    "tags": []
   },
   "source": [
    "### apply our first model - XGBoost"
   ]
  },
  {
   "cell_type": "code",
   "execution_count": 15,
   "id": "b9a5c49c",
   "metadata": {
    "execution": {
     "iopub.execute_input": "2022-02-09T21:28:33.687102Z",
     "iopub.status.busy": "2022-02-09T21:28:33.686077Z",
     "iopub.status.idle": "2022-02-09T21:28:33.801104Z",
     "shell.execute_reply": "2022-02-09T21:28:33.800478Z",
     "shell.execute_reply.started": "2022-01-24T01:48:33.386154Z"
    },
    "papermill": {
     "duration": 0.147005,
     "end_time": "2022-02-09T21:28:33.801250",
     "exception": false,
     "start_time": "2022-02-09T21:28:33.654245",
     "status": "completed"
    },
    "tags": []
   },
   "outputs": [],
   "source": [
    "import xgboost as xgb\n",
    "\n",
    "xg_cl = xgb.XGBClassifier(seed=123,verbosity = 0)"
   ]
  },
  {
   "cell_type": "code",
   "execution_count": 16,
   "id": "c6840972",
   "metadata": {
    "execution": {
     "iopub.execute_input": "2022-02-09T21:28:33.860599Z",
     "iopub.status.busy": "2022-02-09T21:28:33.859626Z",
     "iopub.status.idle": "2022-02-09T21:28:34.157207Z",
     "shell.execute_reply": "2022-02-09T21:28:34.157677Z",
     "shell.execute_reply.started": "2022-01-24T01:48:33.474718Z"
    },
    "papermill": {
     "duration": 0.328433,
     "end_time": "2022-02-09T21:28:34.157851",
     "exception": false,
     "start_time": "2022-02-09T21:28:33.829418",
     "status": "completed"
    },
    "tags": []
   },
   "outputs": [
    {
     "data": {
      "text/plain": [
       "XGBClassifier(base_score=0.5, booster='gbtree', colsample_bylevel=1,\n",
       "              colsample_bynode=1, colsample_bytree=1, enable_categorical=False,\n",
       "              gamma=0, gpu_id=-1, importance_type=None,\n",
       "              interaction_constraints='', learning_rate=0.300000012,\n",
       "              max_delta_step=0, max_depth=6, min_child_weight=1, missing=nan,\n",
       "              monotone_constraints='()', n_estimators=100, n_jobs=4,\n",
       "              num_parallel_tree=1, predictor='auto', random_state=123,\n",
       "              reg_alpha=0, reg_lambda=1, scale_pos_weight=1, seed=123,\n",
       "              subsample=1, tree_method='exact', validate_parameters=1,\n",
       "              verbosity=0)"
      ]
     },
     "execution_count": 16,
     "metadata": {},
     "output_type": "execute_result"
    }
   ],
   "source": [
    "xg_cl.fit(X_train,y_train)"
   ]
  },
  {
   "cell_type": "code",
   "execution_count": 17,
   "id": "c68257b3",
   "metadata": {
    "execution": {
     "iopub.execute_input": "2022-02-09T21:28:34.217614Z",
     "iopub.status.busy": "2022-02-09T21:28:34.216876Z",
     "iopub.status.idle": "2022-02-09T21:28:34.226486Z",
     "shell.execute_reply": "2022-02-09T21:28:34.227035Z",
     "shell.execute_reply.started": "2022-01-24T01:48:33.770212Z"
    },
    "papermill": {
     "duration": 0.040946,
     "end_time": "2022-02-09T21:28:34.227252",
     "exception": false,
     "start_time": "2022-02-09T21:28:34.186306",
     "status": "completed"
    },
    "tags": []
   },
   "outputs": [],
   "source": [
    "y_pred = xg_cl.predict(X_test)"
   ]
  },
  {
   "cell_type": "code",
   "execution_count": 18,
   "id": "2a2ce7ce",
   "metadata": {
    "execution": {
     "iopub.execute_input": "2022-02-09T21:28:34.292802Z",
     "iopub.status.busy": "2022-02-09T21:28:34.292061Z",
     "iopub.status.idle": "2022-02-09T21:28:34.295884Z",
     "shell.execute_reply": "2022-02-09T21:28:34.295304Z",
     "shell.execute_reply.started": "2022-01-24T01:48:33.781731Z"
    },
    "papermill": {
     "duration": 0.038723,
     "end_time": "2022-02-09T21:28:34.296037",
     "exception": false,
     "start_time": "2022-02-09T21:28:34.257314",
     "status": "completed"
    },
    "tags": []
   },
   "outputs": [
    {
     "name": "stdout",
     "output_type": "stream",
     "text": [
      "0.7972027972027972\n"
     ]
    }
   ],
   "source": [
    "from sklearn.metrics import accuracy_score\n",
    "\n",
    "print(accuracy_score(y_pred,y_test))"
   ]
  },
  {
   "cell_type": "code",
   "execution_count": 19,
   "id": "1076fb8f",
   "metadata": {
    "execution": {
     "iopub.execute_input": "2022-02-09T21:28:34.360700Z",
     "iopub.status.busy": "2022-02-09T21:28:34.359581Z",
     "iopub.status.idle": "2022-02-09T21:28:34.361880Z",
     "shell.execute_reply": "2022-02-09T21:28:34.362325Z",
     "shell.execute_reply.started": "2022-01-24T01:48:33.795179Z"
    },
    "papermill": {
     "duration": 0.037801,
     "end_time": "2022-02-09T21:28:34.362522",
     "exception": false,
     "start_time": "2022-02-09T21:28:34.324721",
     "status": "completed"
    },
    "tags": []
   },
   "outputs": [],
   "source": [
    "from sklearn.model_selection import GridSearchCV\n",
    "\n",
    "params = {\n",
    "    'max_depth': [2,5,10],\n",
    "    'n_estimators': [50,100,300],\n",
    "    'learning_rate': [0.1, 0.01, 0.05]\n",
    "}\n",
    "\n",
    "base_est = xgb.XGBClassifier(seed=123,verbosity = 0)\n",
    "\n",
    "grid_cv = GridSearchCV(\n",
    "    estimator=base_est,\n",
    "    param_grid=params,\n",
    "    scoring = 'accuracy',\n",
    "    cv=5\n",
    ")"
   ]
  },
  {
   "cell_type": "code",
   "execution_count": 20,
   "id": "4444f72e",
   "metadata": {
    "execution": {
     "iopub.execute_input": "2022-02-09T21:28:34.422211Z",
     "iopub.status.busy": "2022-02-09T21:28:34.421553Z",
     "iopub.status.idle": "2022-02-09T21:29:31.937727Z",
     "shell.execute_reply": "2022-02-09T21:29:31.938237Z",
     "shell.execute_reply.started": "2022-01-24T01:48:33.804335Z"
    },
    "papermill": {
     "duration": 57.54772,
     "end_time": "2022-02-09T21:29:31.938418",
     "exception": false,
     "start_time": "2022-02-09T21:28:34.390698",
     "status": "completed"
    },
    "tags": []
   },
   "outputs": [
    {
     "data": {
      "text/plain": [
       "GridSearchCV(cv=5,\n",
       "             estimator=XGBClassifier(base_score=None, booster=None,\n",
       "                                     colsample_bylevel=None,\n",
       "                                     colsample_bynode=None,\n",
       "                                     colsample_bytree=None,\n",
       "                                     enable_categorical=False, gamma=None,\n",
       "                                     gpu_id=None, importance_type=None,\n",
       "                                     interaction_constraints=None,\n",
       "                                     learning_rate=None, max_delta_step=None,\n",
       "                                     max_depth=None, min_child_weight=None,\n",
       "                                     missing=nan, monotone_constraints=None,\n",
       "                                     n_estimators=100, n_jobs=None,\n",
       "                                     num_parallel_tree=None, predictor=None,\n",
       "                                     random_state=None, reg_alpha=None,\n",
       "                                     reg_lambda=None, scale_pos_weight=None,\n",
       "                                     seed=123, subsample=None, tree_method=None,\n",
       "                                     validate_parameters=None, verbosity=0),\n",
       "             param_grid={'learning_rate': [0.1, 0.01, 0.05],\n",
       "                         'max_depth': [2, 5, 10],\n",
       "                         'n_estimators': [50, 100, 300]},\n",
       "             scoring='accuracy')"
      ]
     },
     "execution_count": 20,
     "metadata": {},
     "output_type": "execute_result"
    }
   ],
   "source": [
    "grid_cv.fit(X_train,y_train)"
   ]
  },
  {
   "cell_type": "code",
   "execution_count": 21,
   "id": "88444ed1",
   "metadata": {
    "execution": {
     "iopub.execute_input": "2022-02-09T21:29:32.002079Z",
     "iopub.status.busy": "2022-02-09T21:29:32.001340Z",
     "iopub.status.idle": "2022-02-09T21:29:32.004151Z",
     "shell.execute_reply": "2022-02-09T21:29:32.004663Z",
     "shell.execute_reply.started": "2022-01-24T01:49:29.406059Z"
    },
    "papermill": {
     "duration": 0.036949,
     "end_time": "2022-02-09T21:29:32.004848",
     "exception": false,
     "start_time": "2022-02-09T21:29:31.967899",
     "status": "completed"
    },
    "tags": []
   },
   "outputs": [
    {
     "data": {
      "text/plain": [
       "0.8313771153547587"
      ]
     },
     "execution_count": 21,
     "metadata": {},
     "output_type": "execute_result"
    }
   ],
   "source": [
    "grid_cv.best_score_"
   ]
  },
  {
   "cell_type": "code",
   "execution_count": 22,
   "id": "ee257301",
   "metadata": {
    "execution": {
     "iopub.execute_input": "2022-02-09T21:29:32.068458Z",
     "iopub.status.busy": "2022-02-09T21:29:32.067803Z",
     "iopub.status.idle": "2022-02-09T21:29:32.072784Z",
     "shell.execute_reply": "2022-02-09T21:29:32.072240Z",
     "shell.execute_reply.started": "2022-01-24T01:53:51.820716Z"
    },
    "papermill": {
     "duration": 0.037686,
     "end_time": "2022-02-09T21:29:32.072936",
     "exception": false,
     "start_time": "2022-02-09T21:29:32.035250",
     "status": "completed"
    },
    "tags": []
   },
   "outputs": [],
   "source": [
    "from sklearn.preprocessing import StandardScaler"
   ]
  },
  {
   "cell_type": "code",
   "execution_count": 23,
   "id": "c246bfb0",
   "metadata": {
    "execution": {
     "iopub.execute_input": "2022-02-09T21:29:32.137836Z",
     "iopub.status.busy": "2022-02-09T21:29:32.137121Z",
     "iopub.status.idle": "2022-02-09T21:29:32.142516Z",
     "shell.execute_reply": "2022-02-09T21:29:32.141997Z",
     "shell.execute_reply.started": "2022-01-24T01:59:06.69693Z"
    },
    "papermill": {
     "duration": 0.04078,
     "end_time": "2022-02-09T21:29:32.142672",
     "exception": false,
     "start_time": "2022-02-09T21:29:32.101892",
     "status": "completed"
    },
    "tags": []
   },
   "outputs": [],
   "source": [
    "scaler = StandardScaler()\n",
    "\n",
    "X_scaled = scaler.fit_transform(X)"
   ]
  },
  {
   "cell_type": "code",
   "execution_count": 24,
   "id": "7e79e049",
   "metadata": {
    "execution": {
     "iopub.execute_input": "2022-02-09T21:29:32.206726Z",
     "iopub.status.busy": "2022-02-09T21:29:32.205988Z",
     "iopub.status.idle": "2022-02-09T21:29:32.212143Z",
     "shell.execute_reply": "2022-02-09T21:29:32.211586Z",
     "shell.execute_reply.started": "2022-01-24T02:02:31.126834Z"
    },
    "papermill": {
     "duration": 0.038657,
     "end_time": "2022-02-09T21:29:32.212284",
     "exception": false,
     "start_time": "2022-02-09T21:29:32.173627",
     "status": "completed"
    },
    "tags": []
   },
   "outputs": [],
   "source": [
    "X_train,X_test,y_train,y_test = train_test_split(X_scaled,y,test_size=.2,random_state=123)"
   ]
  },
  {
   "cell_type": "code",
   "execution_count": 25,
   "id": "8ad9dd6d",
   "metadata": {
    "execution": {
     "iopub.execute_input": "2022-02-09T21:29:32.277415Z",
     "iopub.status.busy": "2022-02-09T21:29:32.276778Z",
     "iopub.status.idle": "2022-02-09T21:30:55.314350Z",
     "shell.execute_reply": "2022-02-09T21:30:55.314872Z",
     "shell.execute_reply.started": "2022-01-24T02:02:31.854276Z"
    },
    "papermill": {
     "duration": 83.073264,
     "end_time": "2022-02-09T21:30:55.315044",
     "exception": false,
     "start_time": "2022-02-09T21:29:32.241780",
     "status": "completed"
    },
    "tags": []
   },
   "outputs": [
    {
     "data": {
      "text/plain": [
       "GridSearchCV(cv=5,\n",
       "             estimator=XGBClassifier(base_score=None, booster=None,\n",
       "                                     colsample_bylevel=None,\n",
       "                                     colsample_bynode=None,\n",
       "                                     colsample_bytree=None,\n",
       "                                     enable_categorical=False, gamma=None,\n",
       "                                     gpu_id=None, importance_type=None,\n",
       "                                     interaction_constraints=None,\n",
       "                                     learning_rate=None, max_delta_step=None,\n",
       "                                     max_depth=None, min_child_weight=None,\n",
       "                                     missing=nan, monotone_constraints=None,\n",
       "                                     n_estimators=100, n_jobs=None,\n",
       "                                     num_parallel_tree=None, predictor=None,\n",
       "                                     random_state=None, reg_alpha=None,\n",
       "                                     reg_lambda=None, scale_pos_weight=None,\n",
       "                                     seed=123, subsample=None, tree_method=None,\n",
       "                                     validate_parameters=None, verbosity=0),\n",
       "             param_grid={'learning_rate': [0.1, 0.01, 0.05],\n",
       "                         'max_depth': [2, 5, 10],\n",
       "                         'n_estimators': [50, 100, 300]},\n",
       "             scoring='accuracy')"
      ]
     },
     "execution_count": 25,
     "metadata": {},
     "output_type": "execute_result"
    }
   ],
   "source": [
    "base_est = xgb.XGBClassifier(seed=123,verbosity = 0)\n",
    "\n",
    "grid_cv = GridSearchCV(\n",
    "    estimator=base_est,\n",
    "    param_grid=params,\n",
    "    scoring = 'accuracy',\n",
    "    cv=5\n",
    ")\n",
    "\n",
    "grid_cv.fit(X_train,y_train)"
   ]
  },
  {
   "cell_type": "code",
   "execution_count": 26,
   "id": "3a227f09",
   "metadata": {
    "execution": {
     "iopub.execute_input": "2022-02-09T21:30:55.376953Z",
     "iopub.status.busy": "2022-02-09T21:30:55.376282Z",
     "iopub.status.idle": "2022-02-09T21:30:55.380682Z",
     "shell.execute_reply": "2022-02-09T21:30:55.381255Z",
     "shell.execute_reply.started": "2022-01-24T02:03:53.643292Z"
    },
    "papermill": {
     "duration": 0.037091,
     "end_time": "2022-02-09T21:30:55.381416",
     "exception": false,
     "start_time": "2022-02-09T21:30:55.344325",
     "status": "completed"
    },
    "tags": []
   },
   "outputs": [
    {
     "data": {
      "text/plain": [
       "0.8296227293898465"
      ]
     },
     "execution_count": 26,
     "metadata": {},
     "output_type": "execute_result"
    }
   ],
   "source": [
    "grid_cv.best_score_"
   ]
  },
  {
   "cell_type": "code",
   "execution_count": null,
   "id": "67aa6ece",
   "metadata": {
    "papermill": {
     "duration": 0.028872,
     "end_time": "2022-02-09T21:30:55.439820",
     "exception": false,
     "start_time": "2022-02-09T21:30:55.410948",
     "status": "completed"
    },
    "tags": []
   },
   "outputs": [],
   "source": []
  }
 ],
 "metadata": {
  "kernelspec": {
   "display_name": "Python 3",
   "language": "python",
   "name": "python3"
  },
  "language_info": {
   "codemirror_mode": {
    "name": "ipython",
    "version": 3
   },
   "file_extension": ".py",
   "mimetype": "text/x-python",
   "name": "python",
   "nbconvert_exporter": "python",
   "pygments_lexer": "ipython3",
   "version": "3.7.12"
  },
  "papermill": {
   "default_parameters": {},
   "duration": 155.296101,
   "end_time": "2022-02-09T21:30:56.179265",
   "environment_variables": {},
   "exception": null,
   "input_path": "__notebook__.ipynb",
   "output_path": "__notebook__.ipynb",
   "parameters": {},
   "start_time": "2022-02-09T21:28:20.883164",
   "version": "2.3.3"
  }
 },
 "nbformat": 4,
 "nbformat_minor": 5
}
