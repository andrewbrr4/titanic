{
 "cells": [
  {
   "cell_type": "code",
   "execution_count": 1,
   "id": "b47bfc2f",
   "metadata": {
    "_cell_guid": "b1076dfc-b9ad-4769-8c92-a6c4dae69d19",
    "_uuid": "8f2839f25d086af736a60e9eeb907d3b93b6e0e5",
    "execution": {
     "iopub.execute_input": "2022-01-24T02:10:17.795872Z",
     "iopub.status.busy": "2022-01-24T02:10:17.791255Z",
     "iopub.status.idle": "2022-01-24T02:10:17.804457Z",
     "shell.execute_reply": "2022-01-24T02:10:17.805015Z",
     "shell.execute_reply.started": "2022-01-24T01:48:32.111575Z"
    },
    "papermill": {
     "duration": 0.049753,
     "end_time": "2022-01-24T02:10:17.805331",
     "exception": false,
     "start_time": "2022-01-24T02:10:17.755578",
     "status": "completed"
    },
    "tags": []
   },
   "outputs": [
    {
     "name": "stdout",
     "output_type": "stream",
     "text": [
      "/kaggle/input/titanic/train.csv\n",
      "/kaggle/input/titanic/test.csv\n",
      "/kaggle/input/titanic/gender_submission.csv\n"
     ]
    }
   ],
   "source": [
    "# This Python 3 environment comes with many helpful analytics libraries installed\n",
    "# It is defined by the kaggle/python Docker image: https://github.com/kaggle/docker-python\n",
    "# For example, here's several helpful packages to load\n",
    "\n",
    "import numpy as np # linear algebra\n",
    "import pandas as pd # data processing, CSV file I/O (e.g. pd.read_csv)\n",
    "import warnings\n",
    "warnings.filterwarnings('ignore')\n",
    "\n",
    "# Input data files are available in the read-only \"../input/\" directory\n",
    "# For example, running this (by clicking run or pressing Shift+Enter) will list all files under the input directory\n",
    "\n",
    "import os\n",
    "for dirname, _, filenames in os.walk('/kaggle/input'):\n",
    "    for filename in filenames:\n",
    "        print(os.path.join(dirname, filename))\n",
    "\n",
    "# You can write up to 20GB to the current directory (/kaggle/working/) that gets preserved as output when you create a version using \"Save & Run All\" \n",
    "# You can also write temporary files to /kaggle/temp/, but they won't be saved outside of the current session"
   ]
  },
  {
   "cell_type": "code",
   "execution_count": 2,
   "id": "1417fefb",
   "metadata": {
    "execution": {
     "iopub.execute_input": "2022-01-24T02:10:17.860374Z",
     "iopub.status.busy": "2022-01-24T02:10:17.859542Z",
     "iopub.status.idle": "2022-01-24T02:10:17.883257Z",
     "shell.execute_reply": "2022-01-24T02:10:17.883795Z",
     "shell.execute_reply.started": "2022-01-24T01:48:32.143341Z"
    },
    "papermill": {
     "duration": 0.05355,
     "end_time": "2022-01-24T02:10:17.884022",
     "exception": false,
     "start_time": "2022-01-24T02:10:17.830472",
     "status": "completed"
    },
    "tags": []
   },
   "outputs": [],
   "source": [
    "df = pd.read_csv('/kaggle/input/titanic/train.csv')"
   ]
  },
  {
   "cell_type": "markdown",
   "id": "eb04d28c",
   "metadata": {
    "papermill": {
     "duration": 0.025622,
     "end_time": "2022-01-24T02:10:17.936317",
     "exception": false,
     "start_time": "2022-01-24T02:10:17.910695",
     "status": "completed"
    },
    "tags": []
   },
   "source": [
    "### Explore and preprocess data"
   ]
  },
  {
   "cell_type": "code",
   "execution_count": 3,
   "id": "90e482d6",
   "metadata": {
    "execution": {
     "iopub.execute_input": "2022-01-24T02:10:17.998106Z",
     "iopub.status.busy": "2022-01-24T02:10:17.997390Z",
     "iopub.status.idle": "2022-01-24T02:10:18.020789Z",
     "shell.execute_reply": "2022-01-24T02:10:18.020166Z",
     "shell.execute_reply.started": "2022-01-24T01:48:32.167615Z"
    },
    "papermill": {
     "duration": 0.058331,
     "end_time": "2022-01-24T02:10:18.020960",
     "exception": false,
     "start_time": "2022-01-24T02:10:17.962629",
     "status": "completed"
    },
    "tags": []
   },
   "outputs": [
    {
     "data": {
      "text/html": [
       "<div>\n",
       "<style scoped>\n",
       "    .dataframe tbody tr th:only-of-type {\n",
       "        vertical-align: middle;\n",
       "    }\n",
       "\n",
       "    .dataframe tbody tr th {\n",
       "        vertical-align: top;\n",
       "    }\n",
       "\n",
       "    .dataframe thead th {\n",
       "        text-align: right;\n",
       "    }\n",
       "</style>\n",
       "<table border=\"1\" class=\"dataframe\">\n",
       "  <thead>\n",
       "    <tr style=\"text-align: right;\">\n",
       "      <th></th>\n",
       "      <th>PassengerId</th>\n",
       "      <th>Survived</th>\n",
       "      <th>Pclass</th>\n",
       "      <th>Name</th>\n",
       "      <th>Sex</th>\n",
       "      <th>Age</th>\n",
       "      <th>SibSp</th>\n",
       "      <th>Parch</th>\n",
       "      <th>Ticket</th>\n",
       "      <th>Fare</th>\n",
       "      <th>Cabin</th>\n",
       "      <th>Embarked</th>\n",
       "    </tr>\n",
       "  </thead>\n",
       "  <tbody>\n",
       "    <tr>\n",
       "      <th>0</th>\n",
       "      <td>1</td>\n",
       "      <td>0</td>\n",
       "      <td>3</td>\n",
       "      <td>Braund, Mr. Owen Harris</td>\n",
       "      <td>male</td>\n",
       "      <td>22.0</td>\n",
       "      <td>1</td>\n",
       "      <td>0</td>\n",
       "      <td>A/5 21171</td>\n",
       "      <td>7.2500</td>\n",
       "      <td>NaN</td>\n",
       "      <td>S</td>\n",
       "    </tr>\n",
       "    <tr>\n",
       "      <th>1</th>\n",
       "      <td>2</td>\n",
       "      <td>1</td>\n",
       "      <td>1</td>\n",
       "      <td>Cumings, Mrs. John Bradley (Florence Briggs Th...</td>\n",
       "      <td>female</td>\n",
       "      <td>38.0</td>\n",
       "      <td>1</td>\n",
       "      <td>0</td>\n",
       "      <td>PC 17599</td>\n",
       "      <td>71.2833</td>\n",
       "      <td>C85</td>\n",
       "      <td>C</td>\n",
       "    </tr>\n",
       "    <tr>\n",
       "      <th>2</th>\n",
       "      <td>3</td>\n",
       "      <td>1</td>\n",
       "      <td>3</td>\n",
       "      <td>Heikkinen, Miss. Laina</td>\n",
       "      <td>female</td>\n",
       "      <td>26.0</td>\n",
       "      <td>0</td>\n",
       "      <td>0</td>\n",
       "      <td>STON/O2. 3101282</td>\n",
       "      <td>7.9250</td>\n",
       "      <td>NaN</td>\n",
       "      <td>S</td>\n",
       "    </tr>\n",
       "    <tr>\n",
       "      <th>3</th>\n",
       "      <td>4</td>\n",
       "      <td>1</td>\n",
       "      <td>1</td>\n",
       "      <td>Futrelle, Mrs. Jacques Heath (Lily May Peel)</td>\n",
       "      <td>female</td>\n",
       "      <td>35.0</td>\n",
       "      <td>1</td>\n",
       "      <td>0</td>\n",
       "      <td>113803</td>\n",
       "      <td>53.1000</td>\n",
       "      <td>C123</td>\n",
       "      <td>S</td>\n",
       "    </tr>\n",
       "    <tr>\n",
       "      <th>4</th>\n",
       "      <td>5</td>\n",
       "      <td>0</td>\n",
       "      <td>3</td>\n",
       "      <td>Allen, Mr. William Henry</td>\n",
       "      <td>male</td>\n",
       "      <td>35.0</td>\n",
       "      <td>0</td>\n",
       "      <td>0</td>\n",
       "      <td>373450</td>\n",
       "      <td>8.0500</td>\n",
       "      <td>NaN</td>\n",
       "      <td>S</td>\n",
       "    </tr>\n",
       "  </tbody>\n",
       "</table>\n",
       "</div>"
      ],
      "text/plain": [
       "   PassengerId  Survived  Pclass  \\\n",
       "0            1         0       3   \n",
       "1            2         1       1   \n",
       "2            3         1       3   \n",
       "3            4         1       1   \n",
       "4            5         0       3   \n",
       "\n",
       "                                                Name     Sex   Age  SibSp  \\\n",
       "0                            Braund, Mr. Owen Harris    male  22.0      1   \n",
       "1  Cumings, Mrs. John Bradley (Florence Briggs Th...  female  38.0      1   \n",
       "2                             Heikkinen, Miss. Laina  female  26.0      0   \n",
       "3       Futrelle, Mrs. Jacques Heath (Lily May Peel)  female  35.0      1   \n",
       "4                           Allen, Mr. William Henry    male  35.0      0   \n",
       "\n",
       "   Parch            Ticket     Fare Cabin Embarked  \n",
       "0      0         A/5 21171   7.2500   NaN        S  \n",
       "1      0          PC 17599  71.2833   C85        C  \n",
       "2      0  STON/O2. 3101282   7.9250   NaN        S  \n",
       "3      0            113803  53.1000  C123        S  \n",
       "4      0            373450   8.0500   NaN        S  "
      ]
     },
     "execution_count": 3,
     "metadata": {},
     "output_type": "execute_result"
    }
   ],
   "source": [
    "df.head()"
   ]
  },
  {
   "cell_type": "code",
   "execution_count": 4,
   "id": "084d58a2",
   "metadata": {
    "execution": {
     "iopub.execute_input": "2022-01-24T02:10:18.080559Z",
     "iopub.status.busy": "2022-01-24T02:10:18.079807Z",
     "iopub.status.idle": "2022-01-24T02:10:18.082992Z",
     "shell.execute_reply": "2022-01-24T02:10:18.083462Z",
     "shell.execute_reply.started": "2022-01-24T01:48:32.193311Z"
    },
    "papermill": {
     "duration": 0.036963,
     "end_time": "2022-01-24T02:10:18.083643",
     "exception": false,
     "start_time": "2022-01-24T02:10:18.046680",
     "status": "completed"
    },
    "tags": []
   },
   "outputs": [
    {
     "data": {
      "text/plain": [
       "(891, 12)"
      ]
     },
     "execution_count": 4,
     "metadata": {},
     "output_type": "execute_result"
    }
   ],
   "source": [
    "df.shape"
   ]
  },
  {
   "cell_type": "code",
   "execution_count": 5,
   "id": "e818440b",
   "metadata": {
    "execution": {
     "iopub.execute_input": "2022-01-24T02:10:18.141471Z",
     "iopub.status.busy": "2022-01-24T02:10:18.140772Z",
     "iopub.status.idle": "2022-01-24T02:10:18.154110Z",
     "shell.execute_reply": "2022-01-24T02:10:18.154606Z",
     "shell.execute_reply.started": "2022-01-24T01:48:32.200229Z"
    },
    "papermill": {
     "duration": 0.044813,
     "end_time": "2022-01-24T02:10:18.154795",
     "exception": false,
     "start_time": "2022-01-24T02:10:18.109982",
     "status": "completed"
    },
    "tags": []
   },
   "outputs": [
    {
     "data": {
      "text/plain": [
       "PassengerId    891\n",
       "Survived         2\n",
       "Pclass           3\n",
       "Name           891\n",
       "Sex              2\n",
       "Age             88\n",
       "SibSp            7\n",
       "Parch            7\n",
       "Ticket         681\n",
       "Fare           248\n",
       "Cabin          147\n",
       "Embarked         3\n",
       "dtype: int64"
      ]
     },
     "execution_count": 5,
     "metadata": {},
     "output_type": "execute_result"
    }
   ],
   "source": [
    "df.nunique()"
   ]
  },
  {
   "cell_type": "code",
   "execution_count": 6,
   "id": "08ee7ccf",
   "metadata": {
    "execution": {
     "iopub.execute_input": "2022-01-24T02:10:18.215625Z",
     "iopub.status.busy": "2022-01-24T02:10:18.214914Z",
     "iopub.status.idle": "2022-01-24T02:10:18.218961Z",
     "shell.execute_reply": "2022-01-24T02:10:18.218269Z",
     "shell.execute_reply.started": "2022-01-24T01:48:32.225132Z"
    },
    "papermill": {
     "duration": 0.038312,
     "end_time": "2022-01-24T02:10:18.219119",
     "exception": false,
     "start_time": "2022-01-24T02:10:18.180807",
     "status": "completed"
    },
    "tags": []
   },
   "outputs": [
    {
     "data": {
      "text/plain": [
       "PassengerId      0\n",
       "Survived         0\n",
       "Pclass           0\n",
       "Name             0\n",
       "Sex              0\n",
       "Age            177\n",
       "SibSp            0\n",
       "Parch            0\n",
       "Ticket           0\n",
       "Fare             0\n",
       "Cabin          687\n",
       "Embarked         2\n",
       "dtype: int64"
      ]
     },
     "execution_count": 6,
     "metadata": {},
     "output_type": "execute_result"
    }
   ],
   "source": [
    "df.isnull().sum()"
   ]
  },
  {
   "cell_type": "code",
   "execution_count": 7,
   "id": "2a06a466",
   "metadata": {
    "execution": {
     "iopub.execute_input": "2022-01-24T02:10:18.277202Z",
     "iopub.status.busy": "2022-01-24T02:10:18.276476Z",
     "iopub.status.idle": "2022-01-24T02:10:18.304623Z",
     "shell.execute_reply": "2022-01-24T02:10:18.305124Z",
     "shell.execute_reply.started": "2022-01-24T01:48:32.238975Z"
    },
    "papermill": {
     "duration": 0.061008,
     "end_time": "2022-01-24T02:10:18.305316",
     "exception": false,
     "start_time": "2022-01-24T02:10:18.244308",
     "status": "completed"
    },
    "tags": []
   },
   "outputs": [
    {
     "data": {
      "text/html": [
       "<div>\n",
       "<style scoped>\n",
       "    .dataframe tbody tr th:only-of-type {\n",
       "        vertical-align: middle;\n",
       "    }\n",
       "\n",
       "    .dataframe tbody tr th {\n",
       "        vertical-align: top;\n",
       "    }\n",
       "\n",
       "    .dataframe thead th {\n",
       "        text-align: right;\n",
       "    }\n",
       "</style>\n",
       "<table border=\"1\" class=\"dataframe\">\n",
       "  <thead>\n",
       "    <tr style=\"text-align: right;\">\n",
       "      <th></th>\n",
       "      <th>Survived</th>\n",
       "      <th>Pclass</th>\n",
       "      <th>Sex</th>\n",
       "      <th>Age</th>\n",
       "      <th>SibSp</th>\n",
       "      <th>Parch</th>\n",
       "      <th>Fare</th>\n",
       "      <th>Embarked</th>\n",
       "    </tr>\n",
       "    <tr>\n",
       "      <th>PassengerId</th>\n",
       "      <th></th>\n",
       "      <th></th>\n",
       "      <th></th>\n",
       "      <th></th>\n",
       "      <th></th>\n",
       "      <th></th>\n",
       "      <th></th>\n",
       "      <th></th>\n",
       "    </tr>\n",
       "  </thead>\n",
       "  <tbody>\n",
       "    <tr>\n",
       "      <th>1</th>\n",
       "      <td>0</td>\n",
       "      <td>3</td>\n",
       "      <td>1</td>\n",
       "      <td>22.0</td>\n",
       "      <td>1</td>\n",
       "      <td>0</td>\n",
       "      <td>7.2500</td>\n",
       "      <td>S</td>\n",
       "    </tr>\n",
       "    <tr>\n",
       "      <th>2</th>\n",
       "      <td>1</td>\n",
       "      <td>1</td>\n",
       "      <td>0</td>\n",
       "      <td>38.0</td>\n",
       "      <td>1</td>\n",
       "      <td>0</td>\n",
       "      <td>71.2833</td>\n",
       "      <td>C</td>\n",
       "    </tr>\n",
       "    <tr>\n",
       "      <th>3</th>\n",
       "      <td>1</td>\n",
       "      <td>3</td>\n",
       "      <td>0</td>\n",
       "      <td>26.0</td>\n",
       "      <td>0</td>\n",
       "      <td>0</td>\n",
       "      <td>7.9250</td>\n",
       "      <td>S</td>\n",
       "    </tr>\n",
       "    <tr>\n",
       "      <th>4</th>\n",
       "      <td>1</td>\n",
       "      <td>1</td>\n",
       "      <td>0</td>\n",
       "      <td>35.0</td>\n",
       "      <td>1</td>\n",
       "      <td>0</td>\n",
       "      <td>53.1000</td>\n",
       "      <td>S</td>\n",
       "    </tr>\n",
       "    <tr>\n",
       "      <th>5</th>\n",
       "      <td>0</td>\n",
       "      <td>3</td>\n",
       "      <td>1</td>\n",
       "      <td>35.0</td>\n",
       "      <td>0</td>\n",
       "      <td>0</td>\n",
       "      <td>8.0500</td>\n",
       "      <td>S</td>\n",
       "    </tr>\n",
       "  </tbody>\n",
       "</table>\n",
       "</div>"
      ],
      "text/plain": [
       "             Survived  Pclass  Sex   Age  SibSp  Parch     Fare Embarked\n",
       "PassengerId                                                             \n",
       "1                   0       3    1  22.0      1      0   7.2500        S\n",
       "2                   1       1    0  38.0      1      0  71.2833        C\n",
       "3                   1       3    0  26.0      0      0   7.9250        S\n",
       "4                   1       1    0  35.0      1      0  53.1000        S\n",
       "5                   0       3    1  35.0      0      0   8.0500        S"
      ]
     },
     "execution_count": 7,
     "metadata": {},
     "output_type": "execute_result"
    }
   ],
   "source": [
    "df.set_index('PassengerId',inplace=True)\n",
    "df.drop(['Name','Ticket','Cabin'],axis=1,inplace=True)\n",
    "df['Sex'].replace('male',1,inplace=True)\n",
    "df['Sex'].replace('female',0,inplace=True)\n",
    "df.dropna(inplace=True)\n",
    "df.head()"
   ]
  },
  {
   "cell_type": "code",
   "execution_count": 8,
   "id": "96827955",
   "metadata": {
    "execution": {
     "iopub.execute_input": "2022-01-24T02:10:18.362204Z",
     "iopub.status.busy": "2022-01-24T02:10:18.361488Z",
     "iopub.status.idle": "2022-01-24T02:10:18.366433Z",
     "shell.execute_reply": "2022-01-24T02:10:18.367016Z",
     "shell.execute_reply.started": "2022-01-24T01:48:32.268478Z"
    },
    "papermill": {
     "duration": 0.035818,
     "end_time": "2022-01-24T02:10:18.367194",
     "exception": false,
     "start_time": "2022-01-24T02:10:18.331376",
     "status": "completed"
    },
    "tags": []
   },
   "outputs": [
    {
     "data": {
      "text/plain": [
       "(712, 8)"
      ]
     },
     "execution_count": 8,
     "metadata": {},
     "output_type": "execute_result"
    }
   ],
   "source": [
    "df.shape"
   ]
  },
  {
   "cell_type": "code",
   "execution_count": 9,
   "id": "32713508",
   "metadata": {
    "execution": {
     "iopub.execute_input": "2022-01-24T02:10:18.428542Z",
     "iopub.status.busy": "2022-01-24T02:10:18.427787Z",
     "iopub.status.idle": "2022-01-24T02:10:18.432776Z",
     "shell.execute_reply": "2022-01-24T02:10:18.433353Z",
     "shell.execute_reply.started": "2022-01-24T01:48:32.274594Z"
    },
    "papermill": {
     "duration": 0.037837,
     "end_time": "2022-01-24T02:10:18.433554",
     "exception": false,
     "start_time": "2022-01-24T02:10:18.395717",
     "status": "completed"
    },
    "tags": []
   },
   "outputs": [],
   "source": [
    "X = df.drop('Survived',axis=1)\n",
    "y = df['Survived']"
   ]
  },
  {
   "cell_type": "code",
   "execution_count": 10,
   "id": "dcbbe23a",
   "metadata": {
    "execution": {
     "iopub.execute_input": "2022-01-24T02:10:18.509083Z",
     "iopub.status.busy": "2022-01-24T02:10:18.508316Z",
     "iopub.status.idle": "2022-01-24T02:10:18.511095Z",
     "shell.execute_reply": "2022-01-24T02:10:18.511592Z",
     "shell.execute_reply.started": "2022-01-24T01:48:32.288157Z"
    },
    "papermill": {
     "duration": 0.050484,
     "end_time": "2022-01-24T02:10:18.511764",
     "exception": false,
     "start_time": "2022-01-24T02:10:18.461280",
     "status": "completed"
    },
    "tags": []
   },
   "outputs": [
    {
     "data": {
      "text/html": [
       "<div>\n",
       "<style scoped>\n",
       "    .dataframe tbody tr th:only-of-type {\n",
       "        vertical-align: middle;\n",
       "    }\n",
       "\n",
       "    .dataframe tbody tr th {\n",
       "        vertical-align: top;\n",
       "    }\n",
       "\n",
       "    .dataframe thead th {\n",
       "        text-align: right;\n",
       "    }\n",
       "</style>\n",
       "<table border=\"1\" class=\"dataframe\">\n",
       "  <thead>\n",
       "    <tr style=\"text-align: right;\">\n",
       "      <th></th>\n",
       "      <th>Pclass</th>\n",
       "      <th>Sex</th>\n",
       "      <th>Age</th>\n",
       "      <th>SibSp</th>\n",
       "      <th>Parch</th>\n",
       "      <th>Fare</th>\n",
       "      <th>Embarked</th>\n",
       "    </tr>\n",
       "    <tr>\n",
       "      <th>PassengerId</th>\n",
       "      <th></th>\n",
       "      <th></th>\n",
       "      <th></th>\n",
       "      <th></th>\n",
       "      <th></th>\n",
       "      <th></th>\n",
       "      <th></th>\n",
       "    </tr>\n",
       "  </thead>\n",
       "  <tbody>\n",
       "    <tr>\n",
       "      <th>1</th>\n",
       "      <td>3</td>\n",
       "      <td>1</td>\n",
       "      <td>22.0</td>\n",
       "      <td>1</td>\n",
       "      <td>0</td>\n",
       "      <td>7.2500</td>\n",
       "      <td>S</td>\n",
       "    </tr>\n",
       "    <tr>\n",
       "      <th>2</th>\n",
       "      <td>1</td>\n",
       "      <td>0</td>\n",
       "      <td>38.0</td>\n",
       "      <td>1</td>\n",
       "      <td>0</td>\n",
       "      <td>71.2833</td>\n",
       "      <td>C</td>\n",
       "    </tr>\n",
       "    <tr>\n",
       "      <th>3</th>\n",
       "      <td>3</td>\n",
       "      <td>0</td>\n",
       "      <td>26.0</td>\n",
       "      <td>0</td>\n",
       "      <td>0</td>\n",
       "      <td>7.9250</td>\n",
       "      <td>S</td>\n",
       "    </tr>\n",
       "    <tr>\n",
       "      <th>4</th>\n",
       "      <td>1</td>\n",
       "      <td>0</td>\n",
       "      <td>35.0</td>\n",
       "      <td>1</td>\n",
       "      <td>0</td>\n",
       "      <td>53.1000</td>\n",
       "      <td>S</td>\n",
       "    </tr>\n",
       "    <tr>\n",
       "      <th>5</th>\n",
       "      <td>3</td>\n",
       "      <td>1</td>\n",
       "      <td>35.0</td>\n",
       "      <td>0</td>\n",
       "      <td>0</td>\n",
       "      <td>8.0500</td>\n",
       "      <td>S</td>\n",
       "    </tr>\n",
       "    <tr>\n",
       "      <th>...</th>\n",
       "      <td>...</td>\n",
       "      <td>...</td>\n",
       "      <td>...</td>\n",
       "      <td>...</td>\n",
       "      <td>...</td>\n",
       "      <td>...</td>\n",
       "      <td>...</td>\n",
       "    </tr>\n",
       "    <tr>\n",
       "      <th>886</th>\n",
       "      <td>3</td>\n",
       "      <td>0</td>\n",
       "      <td>39.0</td>\n",
       "      <td>0</td>\n",
       "      <td>5</td>\n",
       "      <td>29.1250</td>\n",
       "      <td>Q</td>\n",
       "    </tr>\n",
       "    <tr>\n",
       "      <th>887</th>\n",
       "      <td>2</td>\n",
       "      <td>1</td>\n",
       "      <td>27.0</td>\n",
       "      <td>0</td>\n",
       "      <td>0</td>\n",
       "      <td>13.0000</td>\n",
       "      <td>S</td>\n",
       "    </tr>\n",
       "    <tr>\n",
       "      <th>888</th>\n",
       "      <td>1</td>\n",
       "      <td>0</td>\n",
       "      <td>19.0</td>\n",
       "      <td>0</td>\n",
       "      <td>0</td>\n",
       "      <td>30.0000</td>\n",
       "      <td>S</td>\n",
       "    </tr>\n",
       "    <tr>\n",
       "      <th>890</th>\n",
       "      <td>1</td>\n",
       "      <td>1</td>\n",
       "      <td>26.0</td>\n",
       "      <td>0</td>\n",
       "      <td>0</td>\n",
       "      <td>30.0000</td>\n",
       "      <td>C</td>\n",
       "    </tr>\n",
       "    <tr>\n",
       "      <th>891</th>\n",
       "      <td>3</td>\n",
       "      <td>1</td>\n",
       "      <td>32.0</td>\n",
       "      <td>0</td>\n",
       "      <td>0</td>\n",
       "      <td>7.7500</td>\n",
       "      <td>Q</td>\n",
       "    </tr>\n",
       "  </tbody>\n",
       "</table>\n",
       "<p>712 rows × 7 columns</p>\n",
       "</div>"
      ],
      "text/plain": [
       "             Pclass  Sex   Age  SibSp  Parch     Fare Embarked\n",
       "PassengerId                                                   \n",
       "1                 3    1  22.0      1      0   7.2500        S\n",
       "2                 1    0  38.0      1      0  71.2833        C\n",
       "3                 3    0  26.0      0      0   7.9250        S\n",
       "4                 1    0  35.0      1      0  53.1000        S\n",
       "5                 3    1  35.0      0      0   8.0500        S\n",
       "...             ...  ...   ...    ...    ...      ...      ...\n",
       "886               3    0  39.0      0      5  29.1250        Q\n",
       "887               2    1  27.0      0      0  13.0000        S\n",
       "888               1    0  19.0      0      0  30.0000        S\n",
       "890               1    1  26.0      0      0  30.0000        C\n",
       "891               3    1  32.0      0      0   7.7500        Q\n",
       "\n",
       "[712 rows x 7 columns]"
      ]
     },
     "execution_count": 10,
     "metadata": {},
     "output_type": "execute_result"
    }
   ],
   "source": [
    "X"
   ]
  },
  {
   "cell_type": "code",
   "execution_count": 11,
   "id": "3e4321e1",
   "metadata": {
    "execution": {
     "iopub.execute_input": "2022-01-24T02:10:18.574031Z",
     "iopub.status.busy": "2022-01-24T02:10:18.570213Z",
     "iopub.status.idle": "2022-01-24T02:10:18.577260Z",
     "shell.execute_reply": "2022-01-24T02:10:18.577777Z",
     "shell.execute_reply.started": "2022-01-24T01:48:32.311178Z"
    },
    "papermill": {
     "duration": 0.039509,
     "end_time": "2022-01-24T02:10:18.577970",
     "exception": false,
     "start_time": "2022-01-24T02:10:18.538461",
     "status": "completed"
    },
    "tags": []
   },
   "outputs": [
    {
     "data": {
      "text/plain": [
       "PassengerId\n",
       "1      0\n",
       "2      1\n",
       "3      1\n",
       "4      1\n",
       "5      0\n",
       "      ..\n",
       "886    0\n",
       "887    0\n",
       "888    1\n",
       "890    1\n",
       "891    0\n",
       "Name: Survived, Length: 712, dtype: int64"
      ]
     },
     "execution_count": 11,
     "metadata": {},
     "output_type": "execute_result"
    }
   ],
   "source": [
    "y"
   ]
  },
  {
   "cell_type": "markdown",
   "id": "86078073",
   "metadata": {
    "papermill": {
     "duration": 0.028572,
     "end_time": "2022-01-24T02:10:18.634294",
     "exception": false,
     "start_time": "2022-01-24T02:10:18.605722",
     "status": "completed"
    },
    "tags": []
   },
   "source": [
    "#### convert embarkation port to dummy variables, first using pd.get_dummies then OneHotEncoder"
   ]
  },
  {
   "cell_type": "code",
   "execution_count": 12,
   "id": "4b5819e9",
   "metadata": {
    "execution": {
     "iopub.execute_input": "2022-01-24T02:10:18.698596Z",
     "iopub.status.busy": "2022-01-24T02:10:18.697881Z",
     "iopub.status.idle": "2022-01-24T02:10:18.710011Z",
     "shell.execute_reply": "2022-01-24T02:10:18.709332Z",
     "shell.execute_reply.started": "2022-01-24T01:48:32.319803Z"
    },
    "papermill": {
     "duration": 0.045766,
     "end_time": "2022-01-24T02:10:18.710163",
     "exception": false,
     "start_time": "2022-01-24T02:10:18.664397",
     "status": "completed"
    },
    "tags": []
   },
   "outputs": [],
   "source": [
    "X = pd.get_dummies(data=X,prefix='emb',drop_first=True)"
   ]
  },
  {
   "cell_type": "code",
   "execution_count": 13,
   "id": "66cb3d19",
   "metadata": {
    "execution": {
     "iopub.execute_input": "2022-01-24T02:10:18.780341Z",
     "iopub.status.busy": "2022-01-24T02:10:18.769867Z",
     "iopub.status.idle": "2022-01-24T02:10:18.782639Z",
     "shell.execute_reply": "2022-01-24T02:10:18.783288Z",
     "shell.execute_reply.started": "2022-01-24T01:48:32.337485Z"
    },
    "papermill": {
     "duration": 0.045299,
     "end_time": "2022-01-24T02:10:18.783481",
     "exception": false,
     "start_time": "2022-01-24T02:10:18.738182",
     "status": "completed"
    },
    "tags": []
   },
   "outputs": [
    {
     "data": {
      "text/html": [
       "<div>\n",
       "<style scoped>\n",
       "    .dataframe tbody tr th:only-of-type {\n",
       "        vertical-align: middle;\n",
       "    }\n",
       "\n",
       "    .dataframe tbody tr th {\n",
       "        vertical-align: top;\n",
       "    }\n",
       "\n",
       "    .dataframe thead th {\n",
       "        text-align: right;\n",
       "    }\n",
       "</style>\n",
       "<table border=\"1\" class=\"dataframe\">\n",
       "  <thead>\n",
       "    <tr style=\"text-align: right;\">\n",
       "      <th></th>\n",
       "      <th>Pclass</th>\n",
       "      <th>Sex</th>\n",
       "      <th>Age</th>\n",
       "      <th>SibSp</th>\n",
       "      <th>Parch</th>\n",
       "      <th>Fare</th>\n",
       "      <th>emb_Q</th>\n",
       "      <th>emb_S</th>\n",
       "    </tr>\n",
       "    <tr>\n",
       "      <th>PassengerId</th>\n",
       "      <th></th>\n",
       "      <th></th>\n",
       "      <th></th>\n",
       "      <th></th>\n",
       "      <th></th>\n",
       "      <th></th>\n",
       "      <th></th>\n",
       "      <th></th>\n",
       "    </tr>\n",
       "  </thead>\n",
       "  <tbody>\n",
       "    <tr>\n",
       "      <th>1</th>\n",
       "      <td>3</td>\n",
       "      <td>1</td>\n",
       "      <td>22.0</td>\n",
       "      <td>1</td>\n",
       "      <td>0</td>\n",
       "      <td>7.2500</td>\n",
       "      <td>0</td>\n",
       "      <td>1</td>\n",
       "    </tr>\n",
       "    <tr>\n",
       "      <th>2</th>\n",
       "      <td>1</td>\n",
       "      <td>0</td>\n",
       "      <td>38.0</td>\n",
       "      <td>1</td>\n",
       "      <td>0</td>\n",
       "      <td>71.2833</td>\n",
       "      <td>0</td>\n",
       "      <td>0</td>\n",
       "    </tr>\n",
       "    <tr>\n",
       "      <th>3</th>\n",
       "      <td>3</td>\n",
       "      <td>0</td>\n",
       "      <td>26.0</td>\n",
       "      <td>0</td>\n",
       "      <td>0</td>\n",
       "      <td>7.9250</td>\n",
       "      <td>0</td>\n",
       "      <td>1</td>\n",
       "    </tr>\n",
       "    <tr>\n",
       "      <th>4</th>\n",
       "      <td>1</td>\n",
       "      <td>0</td>\n",
       "      <td>35.0</td>\n",
       "      <td>1</td>\n",
       "      <td>0</td>\n",
       "      <td>53.1000</td>\n",
       "      <td>0</td>\n",
       "      <td>1</td>\n",
       "    </tr>\n",
       "    <tr>\n",
       "      <th>5</th>\n",
       "      <td>3</td>\n",
       "      <td>1</td>\n",
       "      <td>35.0</td>\n",
       "      <td>0</td>\n",
       "      <td>0</td>\n",
       "      <td>8.0500</td>\n",
       "      <td>0</td>\n",
       "      <td>1</td>\n",
       "    </tr>\n",
       "  </tbody>\n",
       "</table>\n",
       "</div>"
      ],
      "text/plain": [
       "             Pclass  Sex   Age  SibSp  Parch     Fare  emb_Q  emb_S\n",
       "PassengerId                                                        \n",
       "1                 3    1  22.0      1      0   7.2500      0      1\n",
       "2                 1    0  38.0      1      0  71.2833      0      0\n",
       "3                 3    0  26.0      0      0   7.9250      0      1\n",
       "4                 1    0  35.0      1      0  53.1000      0      1\n",
       "5                 3    1  35.0      0      0   8.0500      0      1"
      ]
     },
     "execution_count": 13,
     "metadata": {},
     "output_type": "execute_result"
    }
   ],
   "source": [
    "X.head()"
   ]
  },
  {
   "cell_type": "code",
   "execution_count": 14,
   "id": "dfec4e36",
   "metadata": {
    "execution": {
     "iopub.execute_input": "2022-01-24T02:10:18.846016Z",
     "iopub.status.busy": "2022-01-24T02:10:18.845299Z",
     "iopub.status.idle": "2022-01-24T02:10:20.166212Z",
     "shell.execute_reply": "2022-01-24T02:10:20.166719Z",
     "shell.execute_reply.started": "2022-01-24T01:48:32.353019Z"
    },
    "papermill": {
     "duration": 1.354068,
     "end_time": "2022-01-24T02:10:20.166956",
     "exception": false,
     "start_time": "2022-01-24T02:10:18.812888",
     "status": "completed"
    },
    "tags": []
   },
   "outputs": [],
   "source": [
    "from sklearn.model_selection import train_test_split\n",
    "X_train,X_test,y_train,y_test = train_test_split(X,y,test_size=.2,random_state=123)"
   ]
  },
  {
   "cell_type": "markdown",
   "id": "b63cbf46",
   "metadata": {
    "papermill": {
     "duration": 0.02833,
     "end_time": "2022-01-24T02:10:20.224460",
     "exception": false,
     "start_time": "2022-01-24T02:10:20.196130",
     "status": "completed"
    },
    "tags": []
   },
   "source": [
    "### apply our first model - XGBoost"
   ]
  },
  {
   "cell_type": "code",
   "execution_count": 15,
   "id": "c001e498",
   "metadata": {
    "execution": {
     "iopub.execute_input": "2022-01-24T02:10:20.287181Z",
     "iopub.status.busy": "2022-01-24T02:10:20.286354Z",
     "iopub.status.idle": "2022-01-24T02:10:20.407610Z",
     "shell.execute_reply": "2022-01-24T02:10:20.408173Z",
     "shell.execute_reply.started": "2022-01-24T01:48:33.386154Z"
    },
    "papermill": {
     "duration": 0.155798,
     "end_time": "2022-01-24T02:10:20.408379",
     "exception": false,
     "start_time": "2022-01-24T02:10:20.252581",
     "status": "completed"
    },
    "tags": []
   },
   "outputs": [],
   "source": [
    "import xgboost as xgb\n",
    "\n",
    "xg_cl = xgb.XGBClassifier(seed=123,verbosity = 0)"
   ]
  },
  {
   "cell_type": "code",
   "execution_count": 16,
   "id": "654bd3d1",
   "metadata": {
    "execution": {
     "iopub.execute_input": "2022-01-24T02:10:20.473773Z",
     "iopub.status.busy": "2022-01-24T02:10:20.472682Z",
     "iopub.status.idle": "2022-01-24T02:10:20.806970Z",
     "shell.execute_reply": "2022-01-24T02:10:20.807529Z",
     "shell.execute_reply.started": "2022-01-24T01:48:33.474718Z"
    },
    "papermill": {
     "duration": 0.37039,
     "end_time": "2022-01-24T02:10:20.807719",
     "exception": false,
     "start_time": "2022-01-24T02:10:20.437329",
     "status": "completed"
    },
    "tags": []
   },
   "outputs": [
    {
     "data": {
      "text/plain": [
       "XGBClassifier(base_score=0.5, booster='gbtree', colsample_bylevel=1,\n",
       "              colsample_bynode=1, colsample_bytree=1, enable_categorical=False,\n",
       "              gamma=0, gpu_id=-1, importance_type=None,\n",
       "              interaction_constraints='', learning_rate=0.300000012,\n",
       "              max_delta_step=0, max_depth=6, min_child_weight=1, missing=nan,\n",
       "              monotone_constraints='()', n_estimators=100, n_jobs=4,\n",
       "              num_parallel_tree=1, predictor='auto', random_state=123,\n",
       "              reg_alpha=0, reg_lambda=1, scale_pos_weight=1, seed=123,\n",
       "              subsample=1, tree_method='exact', validate_parameters=1,\n",
       "              verbosity=0)"
      ]
     },
     "execution_count": 16,
     "metadata": {},
     "output_type": "execute_result"
    }
   ],
   "source": [
    "xg_cl.fit(X_train,y_train)"
   ]
  },
  {
   "cell_type": "code",
   "execution_count": 17,
   "id": "537a4fb5",
   "metadata": {
    "execution": {
     "iopub.execute_input": "2022-01-24T02:10:20.876212Z",
     "iopub.status.busy": "2022-01-24T02:10:20.874986Z",
     "iopub.status.idle": "2022-01-24T02:10:20.887192Z",
     "shell.execute_reply": "2022-01-24T02:10:20.887739Z",
     "shell.execute_reply.started": "2022-01-24T01:48:33.770212Z"
    },
    "papermill": {
     "duration": 0.047861,
     "end_time": "2022-01-24T02:10:20.887987",
     "exception": false,
     "start_time": "2022-01-24T02:10:20.840126",
     "status": "completed"
    },
    "tags": []
   },
   "outputs": [],
   "source": [
    "y_pred = xg_cl.predict(X_test)"
   ]
  },
  {
   "cell_type": "code",
   "execution_count": 18,
   "id": "88cb368b",
   "metadata": {
    "execution": {
     "iopub.execute_input": "2022-01-24T02:10:20.958375Z",
     "iopub.status.busy": "2022-01-24T02:10:20.956060Z",
     "iopub.status.idle": "2022-01-24T02:10:20.963209Z",
     "shell.execute_reply": "2022-01-24T02:10:20.964321Z",
     "shell.execute_reply.started": "2022-01-24T01:48:33.781731Z"
    },
    "papermill": {
     "duration": 0.044377,
     "end_time": "2022-01-24T02:10:20.965130",
     "exception": false,
     "start_time": "2022-01-24T02:10:20.920753",
     "status": "completed"
    },
    "tags": []
   },
   "outputs": [
    {
     "name": "stdout",
     "output_type": "stream",
     "text": [
      "0.7972027972027972\n"
     ]
    }
   ],
   "source": [
    "from sklearn.metrics import accuracy_score\n",
    "\n",
    "print(accuracy_score(y_pred,y_test))"
   ]
  },
  {
   "cell_type": "code",
   "execution_count": 19,
   "id": "b1df48ff",
   "metadata": {
    "execution": {
     "iopub.execute_input": "2022-01-24T02:10:21.036232Z",
     "iopub.status.busy": "2022-01-24T02:10:21.030566Z",
     "iopub.status.idle": "2022-01-24T02:10:21.041985Z",
     "shell.execute_reply": "2022-01-24T02:10:21.040812Z",
     "shell.execute_reply.started": "2022-01-24T01:48:33.795179Z"
    },
    "papermill": {
     "duration": 0.0453,
     "end_time": "2022-01-24T02:10:21.042250",
     "exception": false,
     "start_time": "2022-01-24T02:10:20.996950",
     "status": "completed"
    },
    "tags": []
   },
   "outputs": [],
   "source": [
    "from sklearn.model_selection import GridSearchCV\n",
    "\n",
    "params = {\n",
    "    'max_depth': [2,5,10],\n",
    "    'n_estimators': [50,100,300],\n",
    "    'learning_rate': [0.1, 0.01, 0.05]\n",
    "}\n",
    "\n",
    "base_est = xgb.XGBClassifier(seed=123,verbosity = 0)\n",
    "\n",
    "grid_cv = GridSearchCV(\n",
    "    estimator=base_est,\n",
    "    param_grid=params,\n",
    "    scoring = 'accuracy',\n",
    "    cv=5\n",
    ")"
   ]
  },
  {
   "cell_type": "code",
   "execution_count": 20,
   "id": "0943cb52",
   "metadata": {
    "execution": {
     "iopub.execute_input": "2022-01-24T02:10:21.111441Z",
     "iopub.status.busy": "2022-01-24T02:10:21.110421Z",
     "iopub.status.idle": "2022-01-24T02:11:21.114373Z",
     "shell.execute_reply": "2022-01-24T02:11:21.114921Z",
     "shell.execute_reply.started": "2022-01-24T01:48:33.804335Z"
    },
    "papermill": {
     "duration": 60.042587,
     "end_time": "2022-01-24T02:11:21.115116",
     "exception": false,
     "start_time": "2022-01-24T02:10:21.072529",
     "status": "completed"
    },
    "tags": []
   },
   "outputs": [
    {
     "data": {
      "text/plain": [
       "GridSearchCV(cv=5,\n",
       "             estimator=XGBClassifier(base_score=None, booster=None,\n",
       "                                     colsample_bylevel=None,\n",
       "                                     colsample_bynode=None,\n",
       "                                     colsample_bytree=None,\n",
       "                                     enable_categorical=False, gamma=None,\n",
       "                                     gpu_id=None, importance_type=None,\n",
       "                                     interaction_constraints=None,\n",
       "                                     learning_rate=None, max_delta_step=None,\n",
       "                                     max_depth=None, min_child_weight=None,\n",
       "                                     missing=nan, monotone_constraints=None,\n",
       "                                     n_estimators=100, n_jobs=None,\n",
       "                                     num_parallel_tree=None, predictor=None,\n",
       "                                     random_state=None, reg_alpha=None,\n",
       "                                     reg_lambda=None, scale_pos_weight=None,\n",
       "                                     seed=123, subsample=None, tree_method=None,\n",
       "                                     validate_parameters=None, verbosity=0),\n",
       "             param_grid={'learning_rate': [0.1, 0.01, 0.05],\n",
       "                         'max_depth': [2, 5, 10],\n",
       "                         'n_estimators': [50, 100, 300]},\n",
       "             scoring='accuracy')"
      ]
     },
     "execution_count": 20,
     "metadata": {},
     "output_type": "execute_result"
    }
   ],
   "source": [
    "grid_cv.fit(X_train,y_train)"
   ]
  },
  {
   "cell_type": "code",
   "execution_count": 21,
   "id": "f1c2da53",
   "metadata": {
    "execution": {
     "iopub.execute_input": "2022-01-24T02:11:21.178326Z",
     "iopub.status.busy": "2022-01-24T02:11:21.177610Z",
     "iopub.status.idle": "2022-01-24T02:11:21.182996Z",
     "shell.execute_reply": "2022-01-24T02:11:21.183512Z",
     "shell.execute_reply.started": "2022-01-24T01:49:29.406059Z"
    },
    "papermill": {
     "duration": 0.038115,
     "end_time": "2022-01-24T02:11:21.183704",
     "exception": false,
     "start_time": "2022-01-24T02:11:21.145589",
     "status": "completed"
    },
    "tags": []
   },
   "outputs": [
    {
     "data": {
      "text/plain": [
       "0.8313771153547587"
      ]
     },
     "execution_count": 21,
     "metadata": {},
     "output_type": "execute_result"
    }
   ],
   "source": [
    "grid_cv.best_score_"
   ]
  },
  {
   "cell_type": "code",
   "execution_count": 22,
   "id": "c5b3635a",
   "metadata": {
    "execution": {
     "iopub.execute_input": "2022-01-24T02:11:21.246513Z",
     "iopub.status.busy": "2022-01-24T02:11:21.245818Z",
     "iopub.status.idle": "2022-01-24T02:11:21.249155Z",
     "shell.execute_reply": "2022-01-24T02:11:21.249671Z",
     "shell.execute_reply.started": "2022-01-24T01:53:51.820716Z"
    },
    "papermill": {
     "duration": 0.036863,
     "end_time": "2022-01-24T02:11:21.249865",
     "exception": false,
     "start_time": "2022-01-24T02:11:21.213002",
     "status": "completed"
    },
    "tags": []
   },
   "outputs": [],
   "source": [
    "from sklearn.preprocessing import StandardScaler"
   ]
  },
  {
   "cell_type": "code",
   "execution_count": 23,
   "id": "97d3dca3",
   "metadata": {
    "execution": {
     "iopub.execute_input": "2022-01-24T02:11:21.313158Z",
     "iopub.status.busy": "2022-01-24T02:11:21.312404Z",
     "iopub.status.idle": "2022-01-24T02:11:21.320238Z",
     "shell.execute_reply": "2022-01-24T02:11:21.320735Z",
     "shell.execute_reply.started": "2022-01-24T01:59:06.696930Z"
    },
    "papermill": {
     "duration": 0.042033,
     "end_time": "2022-01-24T02:11:21.320979",
     "exception": false,
     "start_time": "2022-01-24T02:11:21.278946",
     "status": "completed"
    },
    "tags": []
   },
   "outputs": [],
   "source": [
    "scaler = StandardScaler()\n",
    "\n",
    "X_scaled = scaler.fit_transform(X)"
   ]
  },
  {
   "cell_type": "code",
   "execution_count": 24,
   "id": "2537f0fb",
   "metadata": {
    "execution": {
     "iopub.execute_input": "2022-01-24T02:11:21.387213Z",
     "iopub.status.busy": "2022-01-24T02:11:21.386459Z",
     "iopub.status.idle": "2022-01-24T02:11:21.391716Z",
     "shell.execute_reply": "2022-01-24T02:11:21.392223Z",
     "shell.execute_reply.started": "2022-01-24T02:02:31.126834Z"
    },
    "papermill": {
     "duration": 0.040086,
     "end_time": "2022-01-24T02:11:21.392416",
     "exception": false,
     "start_time": "2022-01-24T02:11:21.352330",
     "status": "completed"
    },
    "tags": []
   },
   "outputs": [],
   "source": [
    "X_train,X_test,y_train,y_test = train_test_split(X_scaled,y,test_size=.2,random_state=123)"
   ]
  },
  {
   "cell_type": "code",
   "execution_count": 25,
   "id": "d6f9d320",
   "metadata": {
    "execution": {
     "iopub.execute_input": "2022-01-24T02:11:21.462051Z",
     "iopub.status.busy": "2022-01-24T02:11:21.456495Z",
     "iopub.status.idle": "2022-01-24T02:12:47.537871Z",
     "shell.execute_reply": "2022-01-24T02:12:47.538386Z",
     "shell.execute_reply.started": "2022-01-24T02:02:31.854276Z"
    },
    "papermill": {
     "duration": 86.114959,
     "end_time": "2022-01-24T02:12:47.538585",
     "exception": false,
     "start_time": "2022-01-24T02:11:21.423626",
     "status": "completed"
    },
    "tags": []
   },
   "outputs": [
    {
     "data": {
      "text/plain": [
       "GridSearchCV(cv=5,\n",
       "             estimator=XGBClassifier(base_score=None, booster=None,\n",
       "                                     colsample_bylevel=None,\n",
       "                                     colsample_bynode=None,\n",
       "                                     colsample_bytree=None,\n",
       "                                     enable_categorical=False, gamma=None,\n",
       "                                     gpu_id=None, importance_type=None,\n",
       "                                     interaction_constraints=None,\n",
       "                                     learning_rate=None, max_delta_step=None,\n",
       "                                     max_depth=None, min_child_weight=None,\n",
       "                                     missing=nan, monotone_constraints=None,\n",
       "                                     n_estimators=100, n_jobs=None,\n",
       "                                     num_parallel_tree=None, predictor=None,\n",
       "                                     random_state=None, reg_alpha=None,\n",
       "                                     reg_lambda=None, scale_pos_weight=None,\n",
       "                                     seed=123, subsample=None, tree_method=None,\n",
       "                                     validate_parameters=None, verbosity=0),\n",
       "             param_grid={'learning_rate': [0.1, 0.01, 0.05],\n",
       "                         'max_depth': [2, 5, 10],\n",
       "                         'n_estimators': [50, 100, 300]},\n",
       "             scoring='accuracy')"
      ]
     },
     "execution_count": 25,
     "metadata": {},
     "output_type": "execute_result"
    }
   ],
   "source": [
    "base_est = xgb.XGBClassifier(seed=123,verbosity = 0)\n",
    "\n",
    "grid_cv = GridSearchCV(\n",
    "    estimator=base_est,\n",
    "    param_grid=params,\n",
    "    scoring = 'accuracy',\n",
    "    cv=5\n",
    ")\n",
    "\n",
    "grid_cv.fit(X_train,y_train)"
   ]
  },
  {
   "cell_type": "code",
   "execution_count": 26,
   "id": "667ab3fd",
   "metadata": {
    "execution": {
     "iopub.execute_input": "2022-01-24T02:12:47.607256Z",
     "iopub.status.busy": "2022-01-24T02:12:47.606339Z",
     "iopub.status.idle": "2022-01-24T02:12:47.609743Z",
     "shell.execute_reply": "2022-01-24T02:12:47.610294Z",
     "shell.execute_reply.started": "2022-01-24T02:03:53.643292Z"
    },
    "papermill": {
     "duration": 0.041994,
     "end_time": "2022-01-24T02:12:47.610472",
     "exception": false,
     "start_time": "2022-01-24T02:12:47.568478",
     "status": "completed"
    },
    "tags": []
   },
   "outputs": [
    {
     "data": {
      "text/plain": [
       "0.8296227293898465"
      ]
     },
     "execution_count": 26,
     "metadata": {},
     "output_type": "execute_result"
    }
   ],
   "source": [
    "grid_cv.best_score_"
   ]
  },
  {
   "cell_type": "code",
   "execution_count": null,
   "id": "e1707cf9",
   "metadata": {
    "papermill": {
     "duration": 0.029311,
     "end_time": "2022-01-24T02:12:47.669896",
     "exception": false,
     "start_time": "2022-01-24T02:12:47.640585",
     "status": "completed"
    },
    "tags": []
   },
   "outputs": [],
   "source": []
  }
 ],
 "metadata": {
  "kernelspec": {
   "display_name": "Python 3",
   "language": "python",
   "name": "python3"
  },
  "language_info": {
   "codemirror_mode": {
    "name": "ipython",
    "version": 3
   },
   "file_extension": ".py",
   "mimetype": "text/x-python",
   "name": "python",
   "nbconvert_exporter": "python",
   "pygments_lexer": "ipython3",
   "version": "3.7.12"
  },
  "papermill": {
   "default_parameters": {},
   "duration": 163.454493,
   "end_time": "2022-01-24T02:12:48.512037",
   "environment_variables": {},
   "exception": null,
   "input_path": "__notebook__.ipynb",
   "output_path": "__notebook__.ipynb",
   "parameters": {},
   "start_time": "2022-01-24T02:10:05.057544",
   "version": "2.3.3"
  }
 },
 "nbformat": 4,
 "nbformat_minor": 5
}
