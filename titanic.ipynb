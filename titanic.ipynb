{
 "cells": [
  {
   "cell_type": "code",
   "execution_count": 1,
   "id": "9c0d444f",
   "metadata": {
    "_cell_guid": "b1076dfc-b9ad-4769-8c92-a6c4dae69d19",
    "_uuid": "8f2839f25d086af736a60e9eeb907d3b93b6e0e5",
    "execution": {
     "iopub.execute_input": "2022-03-16T01:57:50.779890Z",
     "iopub.status.busy": "2022-03-16T01:57:50.778743Z",
     "iopub.status.idle": "2022-03-16T01:57:50.788568Z",
     "shell.execute_reply": "2022-03-16T01:57:50.789354Z",
     "shell.execute_reply.started": "2022-03-16T01:55:57.928414Z"
    },
    "papermill": {
     "duration": 0.030406,
     "end_time": "2022-03-16T01:57:50.789735",
     "exception": false,
     "start_time": "2022-03-16T01:57:50.759329",
     "status": "completed"
    },
    "tags": []
   },
   "outputs": [
    {
     "name": "stdout",
     "output_type": "stream",
     "text": [
      "/kaggle/input/titanic/train.csv\n",
      "/kaggle/input/titanic/test.csv\n",
      "/kaggle/input/titanic/gender_submission.csv\n"
     ]
    }
   ],
   "source": [
    "# This Python 3 environment comes with many helpful analytics libraries installed\n",
    "# It is defined by the kaggle/python Docker image: https://github.com/kaggle/docker-python\n",
    "# For example, here's several helpful packages to load\n",
    "\n",
    "import numpy as np # linear algebra\n",
    "import pandas as pd # data processing, CSV file I/O (e.g. pd.read_csv)\n",
    "import warnings\n",
    "warnings.filterwarnings('ignore')\n",
    "\n",
    "# Input data files are available in the read-only \"../input/\" directory\n",
    "# For example, running this (by clicking run or pressing Shift+Enter) will list all files under the input directory\n",
    "\n",
    "import os\n",
    "for dirname, _, filenames in os.walk('/kaggle/input'):\n",
    "    for filename in filenames:\n",
    "        print(os.path.join(dirname, filename))\n",
    "\n",
    "# You can write up to 20GB to the current directory (/kaggle/working/) that gets preserved as output when you create a version using \"Save & Run All\" \n",
    "# You can also write temporary files to /kaggle/temp/, but they won't be saved outside of the current session"
   ]
  },
  {
   "cell_type": "code",
   "execution_count": 2,
   "id": "e60aa3fb",
   "metadata": {
    "execution": {
     "iopub.execute_input": "2022-03-16T01:57:50.824272Z",
     "iopub.status.busy": "2022-03-16T01:57:50.823707Z",
     "iopub.status.idle": "2022-03-16T01:57:50.841015Z",
     "shell.execute_reply": "2022-03-16T01:57:50.841567Z",
     "shell.execute_reply.started": "2022-03-16T01:55:58.566555Z"
    },
    "papermill": {
     "duration": 0.035747,
     "end_time": "2022-03-16T01:57:50.841735",
     "exception": false,
     "start_time": "2022-03-16T01:57:50.805988",
     "status": "completed"
    },
    "tags": []
   },
   "outputs": [],
   "source": [
    "df = pd.read_csv('/kaggle/input/titanic/train.csv')"
   ]
  },
  {
   "cell_type": "markdown",
   "id": "fe6c2e9d",
   "metadata": {
    "papermill": {
     "duration": 0.015025,
     "end_time": "2022-03-16T01:57:50.872730",
     "exception": false,
     "start_time": "2022-03-16T01:57:50.857705",
     "status": "completed"
    },
    "tags": []
   },
   "source": [
    "# Step 1 - Explore and preprocess data"
   ]
  },
  {
   "cell_type": "code",
   "execution_count": 3,
   "id": "777be4f8",
   "metadata": {
    "execution": {
     "iopub.execute_input": "2022-03-16T01:57:50.906381Z",
     "iopub.status.busy": "2022-03-16T01:57:50.905775Z",
     "iopub.status.idle": "2022-03-16T01:57:50.926103Z",
     "shell.execute_reply": "2022-03-16T01:57:50.926593Z",
     "shell.execute_reply.started": "2022-03-16T01:55:59.879279Z"
    },
    "papermill": {
     "duration": 0.038847,
     "end_time": "2022-03-16T01:57:50.926760",
     "exception": false,
     "start_time": "2022-03-16T01:57:50.887913",
     "status": "completed"
    },
    "tags": []
   },
   "outputs": [
    {
     "data": {
      "text/html": [
       "<div>\n",
       "<style scoped>\n",
       "    .dataframe tbody tr th:only-of-type {\n",
       "        vertical-align: middle;\n",
       "    }\n",
       "\n",
       "    .dataframe tbody tr th {\n",
       "        vertical-align: top;\n",
       "    }\n",
       "\n",
       "    .dataframe thead th {\n",
       "        text-align: right;\n",
       "    }\n",
       "</style>\n",
       "<table border=\"1\" class=\"dataframe\">\n",
       "  <thead>\n",
       "    <tr style=\"text-align: right;\">\n",
       "      <th></th>\n",
       "      <th>PassengerId</th>\n",
       "      <th>Survived</th>\n",
       "      <th>Pclass</th>\n",
       "      <th>Name</th>\n",
       "      <th>Sex</th>\n",
       "      <th>Age</th>\n",
       "      <th>SibSp</th>\n",
       "      <th>Parch</th>\n",
       "      <th>Ticket</th>\n",
       "      <th>Fare</th>\n",
       "      <th>Cabin</th>\n",
       "      <th>Embarked</th>\n",
       "    </tr>\n",
       "  </thead>\n",
       "  <tbody>\n",
       "    <tr>\n",
       "      <th>0</th>\n",
       "      <td>1</td>\n",
       "      <td>0</td>\n",
       "      <td>3</td>\n",
       "      <td>Braund, Mr. Owen Harris</td>\n",
       "      <td>male</td>\n",
       "      <td>22.0</td>\n",
       "      <td>1</td>\n",
       "      <td>0</td>\n",
       "      <td>A/5 21171</td>\n",
       "      <td>7.2500</td>\n",
       "      <td>NaN</td>\n",
       "      <td>S</td>\n",
       "    </tr>\n",
       "    <tr>\n",
       "      <th>1</th>\n",
       "      <td>2</td>\n",
       "      <td>1</td>\n",
       "      <td>1</td>\n",
       "      <td>Cumings, Mrs. John Bradley (Florence Briggs Th...</td>\n",
       "      <td>female</td>\n",
       "      <td>38.0</td>\n",
       "      <td>1</td>\n",
       "      <td>0</td>\n",
       "      <td>PC 17599</td>\n",
       "      <td>71.2833</td>\n",
       "      <td>C85</td>\n",
       "      <td>C</td>\n",
       "    </tr>\n",
       "    <tr>\n",
       "      <th>2</th>\n",
       "      <td>3</td>\n",
       "      <td>1</td>\n",
       "      <td>3</td>\n",
       "      <td>Heikkinen, Miss. Laina</td>\n",
       "      <td>female</td>\n",
       "      <td>26.0</td>\n",
       "      <td>0</td>\n",
       "      <td>0</td>\n",
       "      <td>STON/O2. 3101282</td>\n",
       "      <td>7.9250</td>\n",
       "      <td>NaN</td>\n",
       "      <td>S</td>\n",
       "    </tr>\n",
       "    <tr>\n",
       "      <th>3</th>\n",
       "      <td>4</td>\n",
       "      <td>1</td>\n",
       "      <td>1</td>\n",
       "      <td>Futrelle, Mrs. Jacques Heath (Lily May Peel)</td>\n",
       "      <td>female</td>\n",
       "      <td>35.0</td>\n",
       "      <td>1</td>\n",
       "      <td>0</td>\n",
       "      <td>113803</td>\n",
       "      <td>53.1000</td>\n",
       "      <td>C123</td>\n",
       "      <td>S</td>\n",
       "    </tr>\n",
       "    <tr>\n",
       "      <th>4</th>\n",
       "      <td>5</td>\n",
       "      <td>0</td>\n",
       "      <td>3</td>\n",
       "      <td>Allen, Mr. William Henry</td>\n",
       "      <td>male</td>\n",
       "      <td>35.0</td>\n",
       "      <td>0</td>\n",
       "      <td>0</td>\n",
       "      <td>373450</td>\n",
       "      <td>8.0500</td>\n",
       "      <td>NaN</td>\n",
       "      <td>S</td>\n",
       "    </tr>\n",
       "  </tbody>\n",
       "</table>\n",
       "</div>"
      ],
      "text/plain": [
       "   PassengerId  Survived  Pclass  \\\n",
       "0            1         0       3   \n",
       "1            2         1       1   \n",
       "2            3         1       3   \n",
       "3            4         1       1   \n",
       "4            5         0       3   \n",
       "\n",
       "                                                Name     Sex   Age  SibSp  \\\n",
       "0                            Braund, Mr. Owen Harris    male  22.0      1   \n",
       "1  Cumings, Mrs. John Bradley (Florence Briggs Th...  female  38.0      1   \n",
       "2                             Heikkinen, Miss. Laina  female  26.0      0   \n",
       "3       Futrelle, Mrs. Jacques Heath (Lily May Peel)  female  35.0      1   \n",
       "4                           Allen, Mr. William Henry    male  35.0      0   \n",
       "\n",
       "   Parch            Ticket     Fare Cabin Embarked  \n",
       "0      0         A/5 21171   7.2500   NaN        S  \n",
       "1      0          PC 17599  71.2833   C85        C  \n",
       "2      0  STON/O2. 3101282   7.9250   NaN        S  \n",
       "3      0            113803  53.1000  C123        S  \n",
       "4      0            373450   8.0500   NaN        S  "
      ]
     },
     "execution_count": 3,
     "metadata": {},
     "output_type": "execute_result"
    }
   ],
   "source": [
    "df.head()"
   ]
  },
  {
   "cell_type": "code",
   "execution_count": 4,
   "id": "67533c6d",
   "metadata": {
    "execution": {
     "iopub.execute_input": "2022-03-16T01:57:50.960816Z",
     "iopub.status.busy": "2022-03-16T01:57:50.960227Z",
     "iopub.status.idle": "2022-03-16T01:57:50.964572Z",
     "shell.execute_reply": "2022-03-16T01:57:50.965076Z",
     "shell.execute_reply.started": "2022-03-16T01:56:01.912756Z"
    },
    "papermill": {
     "duration": 0.022736,
     "end_time": "2022-03-16T01:57:50.965244",
     "exception": false,
     "start_time": "2022-03-16T01:57:50.942508",
     "status": "completed"
    },
    "tags": []
   },
   "outputs": [
    {
     "data": {
      "text/plain": [
       "(891, 12)"
      ]
     },
     "execution_count": 4,
     "metadata": {},
     "output_type": "execute_result"
    }
   ],
   "source": [
    "df.shape"
   ]
  },
  {
   "cell_type": "code",
   "execution_count": 5,
   "id": "8f368367",
   "metadata": {
    "execution": {
     "iopub.execute_input": "2022-03-16T01:57:51.003533Z",
     "iopub.status.busy": "2022-03-16T01:57:51.002934Z",
     "iopub.status.idle": "2022-03-16T01:57:51.011813Z",
     "shell.execute_reply": "2022-03-16T01:57:51.012307Z",
     "shell.execute_reply.started": "2022-03-16T01:56:02.263737Z"
    },
    "papermill": {
     "duration": 0.030864,
     "end_time": "2022-03-16T01:57:51.012475",
     "exception": false,
     "start_time": "2022-03-16T01:57:50.981611",
     "status": "completed"
    },
    "tags": []
   },
   "outputs": [
    {
     "data": {
      "text/plain": [
       "PassengerId    891\n",
       "Survived         2\n",
       "Pclass           3\n",
       "Name           891\n",
       "Sex              2\n",
       "Age             88\n",
       "SibSp            7\n",
       "Parch            7\n",
       "Ticket         681\n",
       "Fare           248\n",
       "Cabin          147\n",
       "Embarked         3\n",
       "dtype: int64"
      ]
     },
     "execution_count": 5,
     "metadata": {},
     "output_type": "execute_result"
    }
   ],
   "source": [
    "df.nunique()"
   ]
  },
  {
   "cell_type": "code",
   "execution_count": 6,
   "id": "c319c679",
   "metadata": {
    "execution": {
     "iopub.execute_input": "2022-03-16T01:57:51.047820Z",
     "iopub.status.busy": "2022-03-16T01:57:51.047206Z",
     "iopub.status.idle": "2022-03-16T01:57:51.055061Z",
     "shell.execute_reply": "2022-03-16T01:57:51.054595Z",
     "shell.execute_reply.started": "2022-03-16T01:56:03.650026Z"
    },
    "papermill": {
     "duration": 0.026318,
     "end_time": "2022-03-16T01:57:51.055208",
     "exception": false,
     "start_time": "2022-03-16T01:57:51.028890",
     "status": "completed"
    },
    "tags": []
   },
   "outputs": [
    {
     "data": {
      "text/plain": [
       "PassengerId      0\n",
       "Survived         0\n",
       "Pclass           0\n",
       "Name             0\n",
       "Sex              0\n",
       "Age            177\n",
       "SibSp            0\n",
       "Parch            0\n",
       "Ticket           0\n",
       "Fare             0\n",
       "Cabin          687\n",
       "Embarked         2\n",
       "dtype: int64"
      ]
     },
     "execution_count": 6,
     "metadata": {},
     "output_type": "execute_result"
    }
   ],
   "source": [
    "df.isnull().sum()"
   ]
  },
  {
   "cell_type": "code",
   "execution_count": 7,
   "id": "35289398",
   "metadata": {
    "execution": {
     "iopub.execute_input": "2022-03-16T01:57:51.091681Z",
     "iopub.status.busy": "2022-03-16T01:57:51.091109Z",
     "iopub.status.idle": "2022-03-16T01:57:51.112973Z",
     "shell.execute_reply": "2022-03-16T01:57:51.113433Z",
     "shell.execute_reply.started": "2022-03-16T01:56:03.941707Z"
    },
    "papermill": {
     "duration": 0.04155,
     "end_time": "2022-03-16T01:57:51.113593",
     "exception": false,
     "start_time": "2022-03-16T01:57:51.072043",
     "status": "completed"
    },
    "tags": []
   },
   "outputs": [
    {
     "data": {
      "text/html": [
       "<div>\n",
       "<style scoped>\n",
       "    .dataframe tbody tr th:only-of-type {\n",
       "        vertical-align: middle;\n",
       "    }\n",
       "\n",
       "    .dataframe tbody tr th {\n",
       "        vertical-align: top;\n",
       "    }\n",
       "\n",
       "    .dataframe thead th {\n",
       "        text-align: right;\n",
       "    }\n",
       "</style>\n",
       "<table border=\"1\" class=\"dataframe\">\n",
       "  <thead>\n",
       "    <tr style=\"text-align: right;\">\n",
       "      <th></th>\n",
       "      <th>Survived</th>\n",
       "      <th>Pclass</th>\n",
       "      <th>Sex</th>\n",
       "      <th>Age</th>\n",
       "      <th>SibSp</th>\n",
       "      <th>Parch</th>\n",
       "      <th>Fare</th>\n",
       "      <th>Embarked</th>\n",
       "    </tr>\n",
       "    <tr>\n",
       "      <th>PassengerId</th>\n",
       "      <th></th>\n",
       "      <th></th>\n",
       "      <th></th>\n",
       "      <th></th>\n",
       "      <th></th>\n",
       "      <th></th>\n",
       "      <th></th>\n",
       "      <th></th>\n",
       "    </tr>\n",
       "  </thead>\n",
       "  <tbody>\n",
       "    <tr>\n",
       "      <th>1</th>\n",
       "      <td>0</td>\n",
       "      <td>3</td>\n",
       "      <td>1</td>\n",
       "      <td>22.0</td>\n",
       "      <td>1</td>\n",
       "      <td>0</td>\n",
       "      <td>7.2500</td>\n",
       "      <td>S</td>\n",
       "    </tr>\n",
       "    <tr>\n",
       "      <th>2</th>\n",
       "      <td>1</td>\n",
       "      <td>1</td>\n",
       "      <td>0</td>\n",
       "      <td>38.0</td>\n",
       "      <td>1</td>\n",
       "      <td>0</td>\n",
       "      <td>71.2833</td>\n",
       "      <td>C</td>\n",
       "    </tr>\n",
       "    <tr>\n",
       "      <th>3</th>\n",
       "      <td>1</td>\n",
       "      <td>3</td>\n",
       "      <td>0</td>\n",
       "      <td>26.0</td>\n",
       "      <td>0</td>\n",
       "      <td>0</td>\n",
       "      <td>7.9250</td>\n",
       "      <td>S</td>\n",
       "    </tr>\n",
       "    <tr>\n",
       "      <th>4</th>\n",
       "      <td>1</td>\n",
       "      <td>1</td>\n",
       "      <td>0</td>\n",
       "      <td>35.0</td>\n",
       "      <td>1</td>\n",
       "      <td>0</td>\n",
       "      <td>53.1000</td>\n",
       "      <td>S</td>\n",
       "    </tr>\n",
       "    <tr>\n",
       "      <th>5</th>\n",
       "      <td>0</td>\n",
       "      <td>3</td>\n",
       "      <td>1</td>\n",
       "      <td>35.0</td>\n",
       "      <td>0</td>\n",
       "      <td>0</td>\n",
       "      <td>8.0500</td>\n",
       "      <td>S</td>\n",
       "    </tr>\n",
       "  </tbody>\n",
       "</table>\n",
       "</div>"
      ],
      "text/plain": [
       "             Survived  Pclass  Sex   Age  SibSp  Parch     Fare Embarked\n",
       "PassengerId                                                             \n",
       "1                   0       3    1  22.0      1      0   7.2500        S\n",
       "2                   1       1    0  38.0      1      0  71.2833        C\n",
       "3                   1       3    0  26.0      0      0   7.9250        S\n",
       "4                   1       1    0  35.0      1      0  53.1000        S\n",
       "5                   0       3    1  35.0      0      0   8.0500        S"
      ]
     },
     "execution_count": 7,
     "metadata": {},
     "output_type": "execute_result"
    }
   ],
   "source": [
    "df.set_index('PassengerId',inplace=True)\n",
    "df.drop(['Name','Ticket','Cabin'],axis=1,inplace=True)\n",
    "df['Sex'].replace('male',1,inplace=True)\n",
    "df['Sex'].replace('female',0,inplace=True)\n",
    "df.dropna(inplace=True)\n",
    "df.head()"
   ]
  },
  {
   "cell_type": "code",
   "execution_count": 8,
   "id": "dc172b45",
   "metadata": {
    "execution": {
     "iopub.execute_input": "2022-03-16T01:57:51.154745Z",
     "iopub.status.busy": "2022-03-16T01:57:51.154056Z",
     "iopub.status.idle": "2022-03-16T01:57:51.156809Z",
     "shell.execute_reply": "2022-03-16T01:57:51.157310Z",
     "shell.execute_reply.started": "2022-03-16T01:56:05.183040Z"
    },
    "papermill": {
     "duration": 0.026657,
     "end_time": "2022-03-16T01:57:51.157464",
     "exception": false,
     "start_time": "2022-03-16T01:57:51.130807",
     "status": "completed"
    },
    "tags": []
   },
   "outputs": [
    {
     "data": {
      "text/plain": [
       "(712, 8)"
      ]
     },
     "execution_count": 8,
     "metadata": {},
     "output_type": "execute_result"
    }
   ],
   "source": [
    "df.shape"
   ]
  },
  {
   "cell_type": "markdown",
   "id": "165bafd3",
   "metadata": {
    "papermill": {
     "duration": 0.018438,
     "end_time": "2022-03-16T01:57:51.193295",
     "exception": false,
     "start_time": "2022-03-16T01:57:51.174857",
     "status": "completed"
    },
    "tags": []
   },
   "source": [
    "### Create and view X and y"
   ]
  },
  {
   "cell_type": "code",
   "execution_count": 9,
   "id": "fb3f6618",
   "metadata": {
    "execution": {
     "iopub.execute_input": "2022-03-16T01:57:51.234477Z",
     "iopub.status.busy": "2022-03-16T01:57:51.233505Z",
     "iopub.status.idle": "2022-03-16T01:57:51.235269Z",
     "shell.execute_reply": "2022-03-16T01:57:51.235797Z",
     "shell.execute_reply.started": "2022-03-16T01:56:06.688434Z"
    },
    "papermill": {
     "duration": 0.025376,
     "end_time": "2022-03-16T01:57:51.235953",
     "exception": false,
     "start_time": "2022-03-16T01:57:51.210577",
     "status": "completed"
    },
    "tags": []
   },
   "outputs": [],
   "source": [
    "X = df.drop('Survived',axis=1)\n",
    "y = df['Survived']"
   ]
  },
  {
   "cell_type": "code",
   "execution_count": 10,
   "id": "1fdce62f",
   "metadata": {
    "execution": {
     "iopub.execute_input": "2022-03-16T01:57:51.274283Z",
     "iopub.status.busy": "2022-03-16T01:57:51.273392Z",
     "iopub.status.idle": "2022-03-16T01:57:51.288228Z",
     "shell.execute_reply": "2022-03-16T01:57:51.288716Z",
     "shell.execute_reply.started": "2022-03-16T01:56:07.015536Z"
    },
    "papermill": {
     "duration": 0.035464,
     "end_time": "2022-03-16T01:57:51.288875",
     "exception": false,
     "start_time": "2022-03-16T01:57:51.253411",
     "status": "completed"
    },
    "tags": []
   },
   "outputs": [
    {
     "data": {
      "text/html": [
       "<div>\n",
       "<style scoped>\n",
       "    .dataframe tbody tr th:only-of-type {\n",
       "        vertical-align: middle;\n",
       "    }\n",
       "\n",
       "    .dataframe tbody tr th {\n",
       "        vertical-align: top;\n",
       "    }\n",
       "\n",
       "    .dataframe thead th {\n",
       "        text-align: right;\n",
       "    }\n",
       "</style>\n",
       "<table border=\"1\" class=\"dataframe\">\n",
       "  <thead>\n",
       "    <tr style=\"text-align: right;\">\n",
       "      <th></th>\n",
       "      <th>Pclass</th>\n",
       "      <th>Sex</th>\n",
       "      <th>Age</th>\n",
       "      <th>SibSp</th>\n",
       "      <th>Parch</th>\n",
       "      <th>Fare</th>\n",
       "      <th>Embarked</th>\n",
       "    </tr>\n",
       "    <tr>\n",
       "      <th>PassengerId</th>\n",
       "      <th></th>\n",
       "      <th></th>\n",
       "      <th></th>\n",
       "      <th></th>\n",
       "      <th></th>\n",
       "      <th></th>\n",
       "      <th></th>\n",
       "    </tr>\n",
       "  </thead>\n",
       "  <tbody>\n",
       "    <tr>\n",
       "      <th>1</th>\n",
       "      <td>3</td>\n",
       "      <td>1</td>\n",
       "      <td>22.0</td>\n",
       "      <td>1</td>\n",
       "      <td>0</td>\n",
       "      <td>7.2500</td>\n",
       "      <td>S</td>\n",
       "    </tr>\n",
       "    <tr>\n",
       "      <th>2</th>\n",
       "      <td>1</td>\n",
       "      <td>0</td>\n",
       "      <td>38.0</td>\n",
       "      <td>1</td>\n",
       "      <td>0</td>\n",
       "      <td>71.2833</td>\n",
       "      <td>C</td>\n",
       "    </tr>\n",
       "    <tr>\n",
       "      <th>3</th>\n",
       "      <td>3</td>\n",
       "      <td>0</td>\n",
       "      <td>26.0</td>\n",
       "      <td>0</td>\n",
       "      <td>0</td>\n",
       "      <td>7.9250</td>\n",
       "      <td>S</td>\n",
       "    </tr>\n",
       "    <tr>\n",
       "      <th>4</th>\n",
       "      <td>1</td>\n",
       "      <td>0</td>\n",
       "      <td>35.0</td>\n",
       "      <td>1</td>\n",
       "      <td>0</td>\n",
       "      <td>53.1000</td>\n",
       "      <td>S</td>\n",
       "    </tr>\n",
       "    <tr>\n",
       "      <th>5</th>\n",
       "      <td>3</td>\n",
       "      <td>1</td>\n",
       "      <td>35.0</td>\n",
       "      <td>0</td>\n",
       "      <td>0</td>\n",
       "      <td>8.0500</td>\n",
       "      <td>S</td>\n",
       "    </tr>\n",
       "    <tr>\n",
       "      <th>...</th>\n",
       "      <td>...</td>\n",
       "      <td>...</td>\n",
       "      <td>...</td>\n",
       "      <td>...</td>\n",
       "      <td>...</td>\n",
       "      <td>...</td>\n",
       "      <td>...</td>\n",
       "    </tr>\n",
       "    <tr>\n",
       "      <th>886</th>\n",
       "      <td>3</td>\n",
       "      <td>0</td>\n",
       "      <td>39.0</td>\n",
       "      <td>0</td>\n",
       "      <td>5</td>\n",
       "      <td>29.1250</td>\n",
       "      <td>Q</td>\n",
       "    </tr>\n",
       "    <tr>\n",
       "      <th>887</th>\n",
       "      <td>2</td>\n",
       "      <td>1</td>\n",
       "      <td>27.0</td>\n",
       "      <td>0</td>\n",
       "      <td>0</td>\n",
       "      <td>13.0000</td>\n",
       "      <td>S</td>\n",
       "    </tr>\n",
       "    <tr>\n",
       "      <th>888</th>\n",
       "      <td>1</td>\n",
       "      <td>0</td>\n",
       "      <td>19.0</td>\n",
       "      <td>0</td>\n",
       "      <td>0</td>\n",
       "      <td>30.0000</td>\n",
       "      <td>S</td>\n",
       "    </tr>\n",
       "    <tr>\n",
       "      <th>890</th>\n",
       "      <td>1</td>\n",
       "      <td>1</td>\n",
       "      <td>26.0</td>\n",
       "      <td>0</td>\n",
       "      <td>0</td>\n",
       "      <td>30.0000</td>\n",
       "      <td>C</td>\n",
       "    </tr>\n",
       "    <tr>\n",
       "      <th>891</th>\n",
       "      <td>3</td>\n",
       "      <td>1</td>\n",
       "      <td>32.0</td>\n",
       "      <td>0</td>\n",
       "      <td>0</td>\n",
       "      <td>7.7500</td>\n",
       "      <td>Q</td>\n",
       "    </tr>\n",
       "  </tbody>\n",
       "</table>\n",
       "<p>712 rows × 7 columns</p>\n",
       "</div>"
      ],
      "text/plain": [
       "             Pclass  Sex   Age  SibSp  Parch     Fare Embarked\n",
       "PassengerId                                                   \n",
       "1                 3    1  22.0      1      0   7.2500        S\n",
       "2                 1    0  38.0      1      0  71.2833        C\n",
       "3                 3    0  26.0      0      0   7.9250        S\n",
       "4                 1    0  35.0      1      0  53.1000        S\n",
       "5                 3    1  35.0      0      0   8.0500        S\n",
       "...             ...  ...   ...    ...    ...      ...      ...\n",
       "886               3    0  39.0      0      5  29.1250        Q\n",
       "887               2    1  27.0      0      0  13.0000        S\n",
       "888               1    0  19.0      0      0  30.0000        S\n",
       "890               1    1  26.0      0      0  30.0000        C\n",
       "891               3    1  32.0      0      0   7.7500        Q\n",
       "\n",
       "[712 rows x 7 columns]"
      ]
     },
     "execution_count": 10,
     "metadata": {},
     "output_type": "execute_result"
    }
   ],
   "source": [
    "X"
   ]
  },
  {
   "cell_type": "code",
   "execution_count": 11,
   "id": "8cbce04a",
   "metadata": {
    "execution": {
     "iopub.execute_input": "2022-03-16T01:57:51.327870Z",
     "iopub.status.busy": "2022-03-16T01:57:51.326953Z",
     "iopub.status.idle": "2022-03-16T01:57:51.332765Z",
     "shell.execute_reply": "2022-03-16T01:57:51.333155Z",
     "shell.execute_reply.started": "2022-03-16T01:56:07.314395Z"
    },
    "papermill": {
     "duration": 0.026705,
     "end_time": "2022-03-16T01:57:51.333347",
     "exception": false,
     "start_time": "2022-03-16T01:57:51.306642",
     "status": "completed"
    },
    "tags": []
   },
   "outputs": [
    {
     "data": {
      "text/plain": [
       "PassengerId\n",
       "1      0\n",
       "2      1\n",
       "3      1\n",
       "4      1\n",
       "5      0\n",
       "      ..\n",
       "886    0\n",
       "887    0\n",
       "888    1\n",
       "890    1\n",
       "891    0\n",
       "Name: Survived, Length: 712, dtype: int64"
      ]
     },
     "execution_count": 11,
     "metadata": {},
     "output_type": "execute_result"
    }
   ],
   "source": [
    "y"
   ]
  },
  {
   "cell_type": "markdown",
   "id": "2db276e0",
   "metadata": {
    "papermill": {
     "duration": 0.017576,
     "end_time": "2022-03-16T01:57:51.368606",
     "exception": false,
     "start_time": "2022-03-16T01:57:51.351030",
     "status": "completed"
    },
    "tags": []
   },
   "source": [
    "### convert embarkation port to dummy variables, train-test-split"
   ]
  },
  {
   "cell_type": "code",
   "execution_count": 12,
   "id": "0f19f688",
   "metadata": {
    "execution": {
     "iopub.execute_input": "2022-03-16T01:57:51.407803Z",
     "iopub.status.busy": "2022-03-16T01:57:51.406877Z",
     "iopub.status.idle": "2022-03-16T01:57:51.418446Z",
     "shell.execute_reply": "2022-03-16T01:57:51.417910Z",
     "shell.execute_reply.started": "2022-03-16T01:56:08.919688Z"
    },
    "papermill": {
     "duration": 0.032169,
     "end_time": "2022-03-16T01:57:51.418586",
     "exception": false,
     "start_time": "2022-03-16T01:57:51.386417",
     "status": "completed"
    },
    "tags": []
   },
   "outputs": [],
   "source": [
    "X = pd.get_dummies(data=X,prefix='emb',drop_first=True)"
   ]
  },
  {
   "cell_type": "code",
   "execution_count": 13,
   "id": "35ae5649",
   "metadata": {
    "execution": {
     "iopub.execute_input": "2022-03-16T01:57:51.457730Z",
     "iopub.status.busy": "2022-03-16T01:57:51.457093Z",
     "iopub.status.idle": "2022-03-16T01:57:51.466826Z",
     "shell.execute_reply": "2022-03-16T01:57:51.467299Z",
     "shell.execute_reply.started": "2022-03-16T01:56:10.649733Z"
    },
    "papermill": {
     "duration": 0.030952,
     "end_time": "2022-03-16T01:57:51.467462",
     "exception": false,
     "start_time": "2022-03-16T01:57:51.436510",
     "status": "completed"
    },
    "tags": []
   },
   "outputs": [
    {
     "data": {
      "text/html": [
       "<div>\n",
       "<style scoped>\n",
       "    .dataframe tbody tr th:only-of-type {\n",
       "        vertical-align: middle;\n",
       "    }\n",
       "\n",
       "    .dataframe tbody tr th {\n",
       "        vertical-align: top;\n",
       "    }\n",
       "\n",
       "    .dataframe thead th {\n",
       "        text-align: right;\n",
       "    }\n",
       "</style>\n",
       "<table border=\"1\" class=\"dataframe\">\n",
       "  <thead>\n",
       "    <tr style=\"text-align: right;\">\n",
       "      <th></th>\n",
       "      <th>Pclass</th>\n",
       "      <th>Sex</th>\n",
       "      <th>Age</th>\n",
       "      <th>SibSp</th>\n",
       "      <th>Parch</th>\n",
       "      <th>Fare</th>\n",
       "      <th>emb_Q</th>\n",
       "      <th>emb_S</th>\n",
       "    </tr>\n",
       "    <tr>\n",
       "      <th>PassengerId</th>\n",
       "      <th></th>\n",
       "      <th></th>\n",
       "      <th></th>\n",
       "      <th></th>\n",
       "      <th></th>\n",
       "      <th></th>\n",
       "      <th></th>\n",
       "      <th></th>\n",
       "    </tr>\n",
       "  </thead>\n",
       "  <tbody>\n",
       "    <tr>\n",
       "      <th>1</th>\n",
       "      <td>3</td>\n",
       "      <td>1</td>\n",
       "      <td>22.0</td>\n",
       "      <td>1</td>\n",
       "      <td>0</td>\n",
       "      <td>7.2500</td>\n",
       "      <td>0</td>\n",
       "      <td>1</td>\n",
       "    </tr>\n",
       "    <tr>\n",
       "      <th>2</th>\n",
       "      <td>1</td>\n",
       "      <td>0</td>\n",
       "      <td>38.0</td>\n",
       "      <td>1</td>\n",
       "      <td>0</td>\n",
       "      <td>71.2833</td>\n",
       "      <td>0</td>\n",
       "      <td>0</td>\n",
       "    </tr>\n",
       "    <tr>\n",
       "      <th>3</th>\n",
       "      <td>3</td>\n",
       "      <td>0</td>\n",
       "      <td>26.0</td>\n",
       "      <td>0</td>\n",
       "      <td>0</td>\n",
       "      <td>7.9250</td>\n",
       "      <td>0</td>\n",
       "      <td>1</td>\n",
       "    </tr>\n",
       "    <tr>\n",
       "      <th>4</th>\n",
       "      <td>1</td>\n",
       "      <td>0</td>\n",
       "      <td>35.0</td>\n",
       "      <td>1</td>\n",
       "      <td>0</td>\n",
       "      <td>53.1000</td>\n",
       "      <td>0</td>\n",
       "      <td>1</td>\n",
       "    </tr>\n",
       "    <tr>\n",
       "      <th>5</th>\n",
       "      <td>3</td>\n",
       "      <td>1</td>\n",
       "      <td>35.0</td>\n",
       "      <td>0</td>\n",
       "      <td>0</td>\n",
       "      <td>8.0500</td>\n",
       "      <td>0</td>\n",
       "      <td>1</td>\n",
       "    </tr>\n",
       "  </tbody>\n",
       "</table>\n",
       "</div>"
      ],
      "text/plain": [
       "             Pclass  Sex   Age  SibSp  Parch     Fare  emb_Q  emb_S\n",
       "PassengerId                                                        \n",
       "1                 3    1  22.0      1      0   7.2500      0      1\n",
       "2                 1    0  38.0      1      0  71.2833      0      0\n",
       "3                 3    0  26.0      0      0   7.9250      0      1\n",
       "4                 1    0  35.0      1      0  53.1000      0      1\n",
       "5                 3    1  35.0      0      0   8.0500      0      1"
      ]
     },
     "execution_count": 13,
     "metadata": {},
     "output_type": "execute_result"
    }
   ],
   "source": [
    "X.head()"
   ]
  },
  {
   "cell_type": "code",
   "execution_count": 14,
   "id": "1ecc6e57",
   "metadata": {
    "execution": {
     "iopub.execute_input": "2022-03-16T01:57:51.510137Z",
     "iopub.status.busy": "2022-03-16T01:57:51.509231Z",
     "iopub.status.idle": "2022-03-16T01:57:52.432690Z",
     "shell.execute_reply": "2022-03-16T01:57:52.432127Z",
     "shell.execute_reply.started": "2022-03-16T01:56:11.018828Z"
    },
    "papermill": {
     "duration": 0.944897,
     "end_time": "2022-03-16T01:57:52.432827",
     "exception": false,
     "start_time": "2022-03-16T01:57:51.487930",
     "status": "completed"
    },
    "tags": []
   },
   "outputs": [],
   "source": [
    "from sklearn.model_selection import train_test_split\n",
    "X_train,X_test,y_train,y_test = train_test_split(X,y,test_size=.2,random_state=123)"
   ]
  },
  {
   "cell_type": "markdown",
   "id": "3368e698",
   "metadata": {
    "papermill": {
     "duration": 0.018048,
     "end_time": "2022-03-16T01:57:52.469345",
     "exception": false,
     "start_time": "2022-03-16T01:57:52.451297",
     "status": "completed"
    },
    "tags": []
   },
   "source": [
    "# Step 2 - apply our XGBoostClassifier model"
   ]
  },
  {
   "cell_type": "code",
   "execution_count": 15,
   "id": "14eebfec",
   "metadata": {
    "execution": {
     "iopub.execute_input": "2022-03-16T01:57:52.510754Z",
     "iopub.status.busy": "2022-03-16T01:57:52.510117Z",
     "iopub.status.idle": "2022-03-16T01:57:52.596155Z",
     "shell.execute_reply": "2022-03-16T01:57:52.595659Z",
     "shell.execute_reply.started": "2022-03-16T01:56:12.799574Z"
    },
    "papermill": {
     "duration": 0.108683,
     "end_time": "2022-03-16T01:57:52.596376",
     "exception": false,
     "start_time": "2022-03-16T01:57:52.487693",
     "status": "completed"
    },
    "tags": []
   },
   "outputs": [],
   "source": [
    "import xgboost as xgb\n",
    "\n",
    "xg_cl = xgb.XGBClassifier(seed=123,verbosity = 0)"
   ]
  },
  {
   "cell_type": "code",
   "execution_count": 16,
   "id": "cefd202a",
   "metadata": {
    "execution": {
     "iopub.execute_input": "2022-03-16T01:57:52.637410Z",
     "iopub.status.busy": "2022-03-16T01:57:52.636754Z",
     "iopub.status.idle": "2022-03-16T01:57:52.932067Z",
     "shell.execute_reply": "2022-03-16T01:57:52.931628Z",
     "shell.execute_reply.started": "2022-03-16T01:56:13.037471Z"
    },
    "papermill": {
     "duration": 0.317547,
     "end_time": "2022-03-16T01:57:52.932218",
     "exception": false,
     "start_time": "2022-03-16T01:57:52.614671",
     "status": "completed"
    },
    "tags": []
   },
   "outputs": [
    {
     "data": {
      "text/plain": [
       "XGBClassifier(base_score=0.5, booster='gbtree', colsample_bylevel=1,\n",
       "              colsample_bynode=1, colsample_bytree=1, enable_categorical=False,\n",
       "              gamma=0, gpu_id=-1, importance_type=None,\n",
       "              interaction_constraints='', learning_rate=0.300000012,\n",
       "              max_delta_step=0, max_depth=6, min_child_weight=1, missing=nan,\n",
       "              monotone_constraints='()', n_estimators=100, n_jobs=4,\n",
       "              num_parallel_tree=1, predictor='auto', random_state=123,\n",
       "              reg_alpha=0, reg_lambda=1, scale_pos_weight=1, seed=123,\n",
       "              subsample=1, tree_method='exact', validate_parameters=1,\n",
       "              verbosity=0)"
      ]
     },
     "execution_count": 16,
     "metadata": {},
     "output_type": "execute_result"
    }
   ],
   "source": [
    "xg_cl.fit(X_train,y_train)"
   ]
  },
  {
   "cell_type": "code",
   "execution_count": 17,
   "id": "fac1458c",
   "metadata": {
    "execution": {
     "iopub.execute_input": "2022-03-16T01:57:52.973856Z",
     "iopub.status.busy": "2022-03-16T01:57:52.973287Z",
     "iopub.status.idle": "2022-03-16T01:57:52.980469Z",
     "shell.execute_reply": "2022-03-16T01:57:52.980954Z",
     "shell.execute_reply.started": "2022-03-16T01:56:13.358115Z"
    },
    "papermill": {
     "duration": 0.030236,
     "end_time": "2022-03-16T01:57:52.981146",
     "exception": false,
     "start_time": "2022-03-16T01:57:52.950910",
     "status": "completed"
    },
    "tags": []
   },
   "outputs": [],
   "source": [
    "y_pred = xg_cl.predict(X_test)"
   ]
  },
  {
   "cell_type": "code",
   "execution_count": 18,
   "id": "d1679d3c",
   "metadata": {
    "execution": {
     "iopub.execute_input": "2022-03-16T01:57:53.026623Z",
     "iopub.status.busy": "2022-03-16T01:57:53.025766Z",
     "iopub.status.idle": "2022-03-16T01:57:53.028892Z",
     "shell.execute_reply": "2022-03-16T01:57:53.029357Z",
     "shell.execute_reply.started": "2022-03-16T01:56:13.572698Z"
    },
    "papermill": {
     "duration": 0.028879,
     "end_time": "2022-03-16T01:57:53.029521",
     "exception": false,
     "start_time": "2022-03-16T01:57:53.000642",
     "status": "completed"
    },
    "tags": []
   },
   "outputs": [
    {
     "name": "stdout",
     "output_type": "stream",
     "text": [
      "0.7972027972027972\n"
     ]
    }
   ],
   "source": [
    "from sklearn.metrics import accuracy_score\n",
    "\n",
    "print(accuracy_score(y_pred,y_test))"
   ]
  },
  {
   "cell_type": "markdown",
   "id": "f8db72b4",
   "metadata": {
    "papermill": {
     "duration": 0.019155,
     "end_time": "2022-03-16T01:57:53.067586",
     "exception": false,
     "start_time": "2022-03-16T01:57:53.048431",
     "status": "completed"
    },
    "tags": []
   },
   "source": [
    "### accuracy is ok, but let's see if we can tune hyperparameters to do better"
   ]
  },
  {
   "cell_type": "code",
   "execution_count": 19,
   "id": "d7f32d36",
   "metadata": {
    "execution": {
     "iopub.execute_input": "2022-03-16T01:57:53.109507Z",
     "iopub.status.busy": "2022-03-16T01:57:53.108595Z",
     "iopub.status.idle": "2022-03-16T01:57:53.113791Z",
     "shell.execute_reply": "2022-03-16T01:57:53.114341Z",
     "shell.execute_reply.started": "2022-03-16T01:56:15.211893Z"
    },
    "papermill": {
     "duration": 0.027645,
     "end_time": "2022-03-16T01:57:53.114503",
     "exception": false,
     "start_time": "2022-03-16T01:57:53.086858",
     "status": "completed"
    },
    "tags": []
   },
   "outputs": [],
   "source": [
    "from sklearn.model_selection import GridSearchCV\n",
    "\n",
    "params = {\n",
    "    'max_depth': [2,5,10],\n",
    "    'n_estimators': [50,100,300],\n",
    "    'learning_rate': [0.1, 0.01, 0.05]\n",
    "}\n",
    "\n",
    "base_est = xgb.XGBClassifier(seed=123,verbosity = 0)\n",
    "\n",
    "grid_cv = GridSearchCV(\n",
    "    estimator=base_est,\n",
    "    param_grid=params,\n",
    "    scoring = 'accuracy',\n",
    "    cv=5\n",
    ")"
   ]
  },
  {
   "cell_type": "code",
   "execution_count": 20,
   "id": "22a77496",
   "metadata": {
    "execution": {
     "iopub.execute_input": "2022-03-16T01:57:53.155355Z",
     "iopub.status.busy": "2022-03-16T01:57:53.154471Z",
     "iopub.status.idle": "2022-03-16T01:58:48.264550Z",
     "shell.execute_reply": "2022-03-16T01:58:48.265009Z",
     "shell.execute_reply.started": "2022-03-16T01:56:16.334686Z"
    },
    "papermill": {
     "duration": 55.131999,
     "end_time": "2022-03-16T01:58:48.265210",
     "exception": false,
     "start_time": "2022-03-16T01:57:53.133211",
     "status": "completed"
    },
    "tags": []
   },
   "outputs": [
    {
     "data": {
      "text/plain": [
       "GridSearchCV(cv=5,\n",
       "             estimator=XGBClassifier(base_score=None, booster=None,\n",
       "                                     colsample_bylevel=None,\n",
       "                                     colsample_bynode=None,\n",
       "                                     colsample_bytree=None,\n",
       "                                     enable_categorical=False, gamma=None,\n",
       "                                     gpu_id=None, importance_type=None,\n",
       "                                     interaction_constraints=None,\n",
       "                                     learning_rate=None, max_delta_step=None,\n",
       "                                     max_depth=None, min_child_weight=None,\n",
       "                                     missing=nan, monotone_constraints=None,\n",
       "                                     n_estimators=100, n_jobs=None,\n",
       "                                     num_parallel_tree=None, predictor=None,\n",
       "                                     random_state=None, reg_alpha=None,\n",
       "                                     reg_lambda=None, scale_pos_weight=None,\n",
       "                                     seed=123, subsample=None, tree_method=None,\n",
       "                                     validate_parameters=None, verbosity=0),\n",
       "             param_grid={'learning_rate': [0.1, 0.01, 0.05],\n",
       "                         'max_depth': [2, 5, 10],\n",
       "                         'n_estimators': [50, 100, 300]},\n",
       "             scoring='accuracy')"
      ]
     },
     "execution_count": 20,
     "metadata": {},
     "output_type": "execute_result"
    }
   ],
   "source": [
    "grid_cv.fit(X_train,y_train)"
   ]
  },
  {
   "cell_type": "code",
   "execution_count": 21,
   "id": "da9d015e",
   "metadata": {
    "execution": {
     "iopub.execute_input": "2022-03-16T01:58:48.307719Z",
     "iopub.status.busy": "2022-03-16T01:58:48.306835Z",
     "iopub.status.idle": "2022-03-16T01:58:48.312705Z",
     "shell.execute_reply": "2022-03-16T01:58:48.312249Z",
     "shell.execute_reply.started": "2022-03-16T01:57:15.613923Z"
    },
    "papermill": {
     "duration": 0.027659,
     "end_time": "2022-03-16T01:58:48.312828",
     "exception": false,
     "start_time": "2022-03-16T01:58:48.285169",
     "status": "completed"
    },
    "tags": []
   },
   "outputs": [
    {
     "data": {
      "text/plain": [
       "0.8313771153547587"
      ]
     },
     "execution_count": 21,
     "metadata": {},
     "output_type": "execute_result"
    }
   ],
   "source": [
    "grid_cv.best_score_"
   ]
  },
  {
   "cell_type": "code",
   "execution_count": null,
   "id": "3172237a",
   "metadata": {
    "papermill": {
     "duration": 0.018917,
     "end_time": "2022-03-16T01:58:48.351007",
     "exception": false,
     "start_time": "2022-03-16T01:58:48.332090",
     "status": "completed"
    },
    "tags": []
   },
   "outputs": [],
   "source": []
  }
 ],
 "metadata": {
  "kernelspec": {
   "display_name": "Python 3",
   "language": "python",
   "name": "python3"
  },
  "language_info": {
   "codemirror_mode": {
    "name": "ipython",
    "version": 3
   },
   "file_extension": ".py",
   "mimetype": "text/x-python",
   "name": "python",
   "nbconvert_exporter": "python",
   "pygments_lexer": "ipython3",
   "version": "3.7.12"
  },
  "papermill": {
   "default_parameters": {},
   "duration": 66.301098,
   "end_time": "2022-03-16T01:58:48.979189",
   "environment_variables": {},
   "exception": null,
   "input_path": "__notebook__.ipynb",
   "output_path": "__notebook__.ipynb",
   "parameters": {},
   "start_time": "2022-03-16T01:57:42.678091",
   "version": "2.3.3"
  }
 },
 "nbformat": 4,
 "nbformat_minor": 5
}
